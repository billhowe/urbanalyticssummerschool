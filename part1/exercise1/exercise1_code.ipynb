{
 "cells": [
  {
   "cell_type": "code",
   "execution_count": 1,
   "metadata": {},
   "outputs": [
    {
     "name": "stdout",
     "output_type": "stream",
     "text": [
      "Import error: No module named 'tensorflow'\n"
     ]
    }
   ],
   "source": [
    "# Load all necessary packages\n",
    "import sys\n",
    "sys.path.insert(1, \"../\")  \n",
    "\n",
    "import numpy as np\n",
    "np.random.seed(0)\n",
    "\n",
    "from aif360.datasets import GermanDataset, AdultDataset, CompasDataset\n",
    "from aif360.metrics import BinaryLabelDatasetMetric, DatasetMetric, ClassificationMetric\n",
    "from aif360.algorithms.preprocessing import Reweighing, DisparateImpactRemover\n",
    "from aif360.algorithms.inprocessing import PrejudiceRemover\n",
    "from aif360.algorithms.postprocessing import CalibratedEqOddsPostprocessing\n",
    "from aif360.explainers import MetricTextExplainer, MetricJSONExplainer\n",
    "\n",
    "from aif360.algorithms.preprocessing.optim_preproc_helpers.data_preproc_functions\\\n",
    "        import load_preproc_data_adult, load_preproc_data_german, load_preproc_data_compas\n",
    "\n",
    "from IPython.display import Markdown, display\n",
    "\n",
    "import matplotlib\n",
    "import matplotlib.pyplot as plt\n",
    "import seaborn as sns\n",
    "\n",
    "import json\n",
    "from collections import OrderedDict\n",
    "from tqdm import tqdm\n",
    "from sklearn.linear_model import LogisticRegression\n",
    "\n",
    "from sklearn.ensemble import RandomForestClassifier"
   ]
  },
  {
   "cell_type": "code",
   "execution_count": 2,
   "metadata": {},
   "outputs": [
    {
     "name": "stderr",
     "output_type": "stream",
     "text": [
      "WARNING:root:Missing Data: 3620 rows removed from AdultDataset.\n"
     ]
    },
    {
     "data": {
      "text/markdown": [
       "#### Dataset shape"
      ],
      "text/plain": [
       "<IPython.core.display.Markdown object>"
      ]
     },
     "metadata": {},
     "output_type": "display_data"
    },
    {
     "name": "stdout",
     "output_type": "stream",
     "text": [
      "(45222, 97)\n"
     ]
    },
    {
     "data": {
      "text/markdown": [
       "#### Favorable and unfavorable labels"
      ],
      "text/plain": [
       "<IPython.core.display.Markdown object>"
      ]
     },
     "metadata": {},
     "output_type": "display_data"
    },
    {
     "name": "stdout",
     "output_type": "stream",
     "text": [
      "1.0 0.0\n"
     ]
    },
    {
     "data": {
      "text/markdown": [
       "#### Protected attribute names"
      ],
      "text/plain": [
       "<IPython.core.display.Markdown object>"
      ]
     },
     "metadata": {},
     "output_type": "display_data"
    },
    {
     "name": "stdout",
     "output_type": "stream",
     "text": [
      "['sex']\n"
     ]
    },
    {
     "data": {
      "text/markdown": [
       "#### Privileged and unprivileged protected attribute values"
      ],
      "text/plain": [
       "<IPython.core.display.Markdown object>"
      ]
     },
     "metadata": {},
     "output_type": "display_data"
    },
    {
     "name": "stdout",
     "output_type": "stream",
     "text": [
      "[array([1.])] [array([0.])]\n"
     ]
    },
    {
     "data": {
      "text/markdown": [
       "#### Dataset feature names"
      ],
      "text/plain": [
       "<IPython.core.display.Markdown object>"
      ]
     },
     "metadata": {},
     "output_type": "display_data"
    },
    {
     "name": "stdout",
     "output_type": "stream",
     "text": [
      "['age', 'education-num', 'sex', 'capital-gain', 'capital-loss', 'hours-per-week', 'workclass=Federal-gov', 'workclass=Local-gov', 'workclass=Private', 'workclass=Self-emp-inc', 'workclass=Self-emp-not-inc', 'workclass=State-gov', 'workclass=Without-pay', 'education=10th', 'education=11th', 'education=12th', 'education=1st-4th', 'education=5th-6th', 'education=7th-8th', 'education=9th', 'education=Assoc-acdm', 'education=Assoc-voc', 'education=Bachelors', 'education=Doctorate', 'education=HS-grad', 'education=Masters', 'education=Preschool', 'education=Prof-school', 'education=Some-college', 'marital-status=Divorced', 'marital-status=Married-AF-spouse', 'marital-status=Married-civ-spouse', 'marital-status=Married-spouse-absent', 'marital-status=Never-married', 'marital-status=Separated', 'marital-status=Widowed', 'occupation=Adm-clerical', 'occupation=Armed-Forces', 'occupation=Craft-repair', 'occupation=Exec-managerial', 'occupation=Farming-fishing', 'occupation=Handlers-cleaners', 'occupation=Machine-op-inspct', 'occupation=Other-service', 'occupation=Priv-house-serv', 'occupation=Prof-specialty', 'occupation=Protective-serv', 'occupation=Sales', 'occupation=Tech-support', 'occupation=Transport-moving', 'relationship=Husband', 'relationship=Not-in-family', 'relationship=Other-relative', 'relationship=Own-child', 'relationship=Unmarried', 'relationship=Wife', 'native-country=Cambodia', 'native-country=Canada', 'native-country=China', 'native-country=Columbia', 'native-country=Cuba', 'native-country=Dominican-Republic', 'native-country=Ecuador', 'native-country=El-Salvador', 'native-country=England', 'native-country=France', 'native-country=Germany', 'native-country=Greece', 'native-country=Guatemala', 'native-country=Haiti', 'native-country=Holand-Netherlands', 'native-country=Honduras', 'native-country=Hong', 'native-country=Hungary', 'native-country=India', 'native-country=Iran', 'native-country=Ireland', 'native-country=Italy', 'native-country=Jamaica', 'native-country=Japan', 'native-country=Laos', 'native-country=Mexico', 'native-country=Nicaragua', 'native-country=Outlying-US(Guam-USVI-etc)', 'native-country=Peru', 'native-country=Philippines', 'native-country=Poland', 'native-country=Portugal', 'native-country=Puerto-Rico', 'native-country=Scotland', 'native-country=South', 'native-country=Taiwan', 'native-country=Thailand', 'native-country=Trinadad&Tobago', 'native-country=United-States', 'native-country=Vietnam', 'native-country=Yugoslavia']\n"
     ]
    }
   ],
   "source": [
    "dataset_orig_adult = dataset_orig = AdultDataset(protected_attribute_names=['sex'], privileged_classes=[['Male']], features_to_drop=['fnlwgt','race'])\n",
    "\n",
    "# print out some labels, names, etc.\n",
    "display(Markdown(\"#### Dataset shape\"))\n",
    "print(dataset_orig_adult.features.shape)\n",
    "display(Markdown(\"#### Favorable and unfavorable labels\"))\n",
    "print(dataset_orig_adult.favorable_label, dataset_orig_adult.unfavorable_label)\n",
    "display(Markdown(\"#### Protected attribute names\"))\n",
    "print(dataset_orig_adult.protected_attribute_names)\n",
    "display(Markdown(\"#### Privileged and unprivileged protected attribute values\"))\n",
    "print(dataset_orig_adult.privileged_protected_attributes, dataset_orig_adult.unprivileged_protected_attributes)\n",
    "display(Markdown(\"#### Dataset feature names\"))\n",
    "print(dataset_orig_adult.feature_names)\n"
   ]
  },
  {
   "cell_type": "markdown",
   "metadata": {},
   "source": [
    "#### 10 different train test splits"
   ]
  },
  {
   "cell_type": "code",
   "execution_count": 3,
   "metadata": {},
   "outputs": [],
   "source": [
    "# dataset_orig_train, dataset_orig_test = dataset_orig_adult.split([0.7], shuffle=True)\n",
    "dataset_orig_train = {}\n",
    "dataset_orig_test = {}\n",
    "\n",
    "for i in range(0,10):\n",
    "    dataset_orig_train[i], dataset_orig_test[i] = dataset_orig_adult.split([0.7], shuffle=True)\n",
    "    "
   ]
  },
  {
   "cell_type": "markdown",
   "metadata": {},
   "source": [
    "#### Test for disparate impact values for each train and test split"
   ]
  },
  {
   "cell_type": "markdown",
   "metadata": {},
   "source": [
    "##### male is the priviledged class in Adult dataset"
   ]
  },
  {
   "cell_type": "code",
   "execution_count": 7,
   "metadata": {},
   "outputs": [],
   "source": [
    "# Define privileged and unprivileged groups\n",
    "priv = [{'sex': 1}] # Male\n",
    "unpriv = [{'sex': 0}] # Female"
   ]
  },
  {
   "cell_type": "code",
   "execution_count": 8,
   "metadata": {},
   "outputs": [
    {
     "name": "stdout",
     "output_type": "stream",
     "text": [
      "Disparate Impact value for original train split 0 is:  0.3590734381551717\n",
      "Disparate Impact value for original train split 1 is:  0.36555341398386365\n",
      "Disparate Impact value for original train split 2 is:  0.36602739207697665\n",
      "Disparate Impact value for original train split 3 is:  0.3623196394066896\n",
      "Disparate Impact value for original train split 4 is:  0.3751516897281327\n",
      "Disparate Impact value for original train split 5 is:  0.3667986584778149\n",
      "Disparate Impact value for original train split 6 is:  0.36139067323102836\n",
      "Disparate Impact value for original train split 7 is:  0.36269775288580913\n",
      "Disparate Impact value for original train split 8 is:  0.3579162764454635\n",
      "Disparate Impact value for original train split 9 is:  0.36885186312405505\n"
     ]
    }
   ],
   "source": [
    "for i in range(0,10):\n",
    "    metric_otr = BinaryLabelDatasetMetric( dataset_orig_train[i],\n",
    "    unprivileged_groups=unpriv, privileged_groups=priv)\n",
    "    \n",
    "    print(\"Disparate Impact value for original train split {} is: \".format(i), metric_otr.disparate_impact())"
   ]
  },
  {
   "cell_type": "code",
   "execution_count": 9,
   "metadata": {},
   "outputs": [
    {
     "name": "stdout",
     "output_type": "stream",
     "text": [
      "Disparate Impact value for original test split 0 is:  0.37370654743521686\n",
      "Disparate Impact value for original test split 1 is:  0.35867181825529787\n",
      "Disparate Impact value for original test split 2 is:  0.357563195269274\n",
      "Disparate Impact value for original test split 3 is:  0.3658809253350598\n",
      "Disparate Impact value for original test split 4 is:  0.3353650256720024\n",
      "Disparate Impact value for original test split 5 is:  0.3558368851467955\n",
      "Disparate Impact value for original test split 6 is:  0.36837676009318887\n",
      "Disparate Impact value for original test split 7 is:  0.3652876392123058\n",
      "Disparate Impact value for original test split 8 is:  0.37644110582347223\n",
      "Disparate Impact value for original test split 9 is:  0.3512083680180503\n"
     ]
    }
   ],
   "source": [
    "for i in range(0,10):\n",
    "    metric_otr = BinaryLabelDatasetMetric( dataset_orig_test[i],\n",
    "    unprivileged_groups=unpriv, privileged_groups=priv)\n",
    "    \n",
    "    print(\"Disparate Impact value for original test split {} is: \".format(i), metric_otr.disparate_impact())"
   ]
  },
  {
   "cell_type": "markdown",
   "metadata": {},
   "source": [
    "#### Now we will use DiparateImpactRemover Algo to mitigate this bias"
   ]
  },
  {
   "cell_type": "code",
   "execution_count": 11,
   "metadata": {},
   "outputs": [],
   "source": [
    "# Create the algorithm object\n",
    "# repair_level=1.0 means we want to maximise fairness.\n",
    "di = DisparateImpactRemover(repair_level=1.0)"
   ]
  },
  {
   "cell_type": "code",
   "execution_count": 12,
   "metadata": {},
   "outputs": [],
   "source": [
    "dataset_orig_train_transf = {}\n",
    "dataset_orig_test_transf = {}\n",
    "\n",
    "for i in range(0,10):\n",
    "    dataset_orig_train_transf[i] = di.fit_transform(dataset_orig_train[i])\n",
    "    dataset_orig_test_transf[i] = di.fit_transform(dataset_orig_test[i])"
   ]
  },
  {
   "cell_type": "markdown",
   "metadata": {},
   "source": [
    "#### Now we will fit a Logistic Regression Classifier on this repaired dataset and obtain predictions"
   ]
  },
  {
   "cell_type": "code",
   "execution_count": 13,
   "metadata": {},
   "outputs": [],
   "source": [
    "protected = 'sex'\n",
    "index = dataset_orig_train_transf[0].feature_names.index(protected)"
   ]
  },
  {
   "cell_type": "code",
   "execution_count": 14,
   "metadata": {},
   "outputs": [],
   "source": [
    "dataset_orig_test_transf_pred = {}\n",
    "adult_disparateImpactRemover_disparate_impact = {}\n",
    "adult_disparateImpactRemover_accuracy = {}\n",
    "adult_disparateImpactRemover_CV = {}\n",
    "\n",
    "\n",
    "for i in range(0, 10):\n",
    "    X_tr = np.delete(dataset_orig_train_transf[i].features, index, axis=1)\n",
    "    X_te = np.delete(dataset_orig_test_transf[i].features, index, axis=1)\n",
    "    y_tr = dataset_orig_train_transf[i].labels.ravel()\n",
    "    \n",
    "    lmod = LogisticRegression(class_weight='balanced', solver='liblinear')\n",
    "    lmod.fit(X_tr, y_tr)\n",
    "    \n",
    "    dataset_orig_test_transf_pred[i] = dataset_orig_test_transf[i].copy()\n",
    "    dataset_orig_test_transf_pred[i].labels = lmod.predict(X_te)\n",
    "    \n",
    "    \n",
    "    metric_otr_classification = ClassificationMetric(dataset_orig_test_transf[i], dataset_orig_test_transf_pred[i], unprivileged_groups=unpriv, privileged_groups=priv)\n",
    "    \n",
    "    adult_disparateImpactRemover_disparate_impact[i] = metric_otr_classification.disparate_impact()\n",
    "    adult_disparateImpactRemover_accuracy[i] = metric_otr_classification.accuracy()\n",
    "    adult_disparateImpactRemover_CV[i] = 1 - (-(metric_otr_classification.statistical_parity_difference()))\n"
   ]
  },
  {
   "cell_type": "markdown",
   "metadata": {},
   "source": [
    "##### there is a small change in the DI values of the repaired test predictions dataset"
   ]
  },
  {
   "cell_type": "code",
   "execution_count": 15,
   "metadata": {},
   "outputs": [
    {
     "data": {
      "text/plain": [
       "{0: 0.3320270796735709,\n",
       " 1: 0.3511274823295262,\n",
       " 2: 0.31635132225061174,\n",
       " 3: 0.34867639919708904,\n",
       " 4: 0.29535070469132535,\n",
       " 5: 0.358985489605624,\n",
       " 6: 0.3536987028507118,\n",
       " 7: 0.3271213447974777,\n",
       " 8: 0.3530601544147908,\n",
       " 9: 0.32765462115313854}"
      ]
     },
     "execution_count": 15,
     "metadata": {},
     "output_type": "execute_result"
    }
   ],
   "source": [
    "adult_disparateImpactRemover_disparate_impact"
   ]
  },
  {
   "cell_type": "markdown",
   "metadata": {},
   "source": [
    "#### Now we can plot to see how the trade-off between fairness and accuracy changes when we use different input splits\n",
    "#### For fairness we are using CV measure and for accuracy we are using the generic accuracy measure"
   ]
  },
  {
   "cell_type": "markdown",
   "metadata": {},
   "source": [
    "Goal 1"
   ]
  },
  {
   "cell_type": "code",
   "execution_count": 16,
   "metadata": {},
   "outputs": [
    {
     "data": {
      "image/png": "[encoded data removed]",
      "text/plain": [
       "<Figure size 432x288 with 1 Axes>"
      ]
     },
     "metadata": {
      "needs_background": "light"
     },
     "output_type": "display_data"
    }
   ],
   "source": [
    "import matplotlib.pyplot as plt\n",
    "%matplotlib inline \n",
    "\n",
    "plt.plot(list(adult_disparateImpactRemover_CV.values()), list(adult_disparateImpactRemover_accuracy.values()), 'ro')\n",
    "plt.ylabel('accuracy')\n",
    "plt.xlabel('CV')\n",
    "plt.show()"
   ]
  },
  {
   "cell_type": "markdown",
   "metadata": {},
   "source": [
    "### Now on the same above dataset, let's apply another bias mitigation algorithm and compare the end results with the above results"
   ]
  },
  {
   "cell_type": "markdown",
   "metadata": {},
   "source": [
    "#### Now we will apply a post-processing algorithm to the above dataset. \n",
    "\n",
    "We would want to use the exact same dataset with the exact same split to be sure that nothing changed on the input side.\n",
    "\n",
    "We want to be able to compare 2 bias mitigation algorithms : Disparate Impact Remover and Calibrated Equality of Odds.\n",
    "\n",
    "Both are different approaches but at the end they both should give us the same fair predictions while keeping the classifier being applied the same as Logistic Regression.\n"
   ]
  },
  {
   "cell_type": "code",
   "execution_count": 19,
   "metadata": {},
   "outputs": [],
   "source": [
    "# Applying LR on the original dataset splits and record all the metrics\n",
    "\n",
    "dataset_orig_test_pred = {}\n",
    "# adult_calibratedEqualityOdds_disparate_impact = {}\n",
    "# adult_calibratedEqualityOdds_statistical_parity_difference = {}\n",
    "# adult_calibratedEqualityOdds_accuracy = {}\n",
    "# adult_calibratedEqualityOdds_CV = {}\n",
    "\n",
    "\n",
    "for i in range(0, 10):\n",
    "    X_tr = dataset_orig_train[i].features\n",
    "    X_te = dataset_orig_test[i].features\n",
    "    y_tr = dataset_orig_train[i].labels.ravel()\n",
    "    \n",
    "    lmod = LogisticRegression(class_weight='balanced', solver='liblinear')\n",
    "    lmod.fit(X_tr, y_tr)\n",
    "    \n",
    "    dataset_orig_test_pred[i] = dataset_orig_test[i].copy()\n",
    "    dataset_orig_test_pred[i].labels = lmod.predict(X_te)\n",
    "    \n",
    "    \n",
    "#     metric_otr_classification = BinaryLabelDatasetMetric(dataset_orig_test_transf[i], dataset_orig_test_transf_pred[i], unprivileged_groups=unpriv, privileged_groups=priv)\n",
    "    \n",
    "#     adult_disparateImpactRemover_disparate_impact[i] = metric_otr_classification.disparate_impact()\n",
    "#     adult_disparateImpactRemover_accuracy[i] = metric_otr_classification.accuracy()\n",
    "#     adult_disparateImpactRemover_CV[i] = 1 - (-(metric_otr_classification.statistical_parity_difference()))\n"
   ]
  },
  {
   "cell_type": "markdown",
   "metadata": {},
   "source": [
    "##### Now we will apply the post processing algo"
   ]
  },
  {
   "cell_type": "code",
   "execution_count": 20,
   "metadata": {},
   "outputs": [],
   "source": [
    "cost_constraint = \"weighted\"\n",
    "randseed = 12345679 "
   ]
  },
  {
   "cell_type": "code",
   "execution_count": 21,
   "metadata": {},
   "outputs": [],
   "source": [
    "dataset_orig_test_transf_calibratedEqualityOdds_pred = {}\n",
    "\n",
    "adult_calibratedEqualityOdds_disparate_impact = {}\n",
    "# adult_calibratedEqualityOdds_statistical_parity_difference = {}\n",
    "adult_calibratedEqualityOdds_accuracy = {}\n",
    "adult_calibratedEqualityOdds_CV = {}\n",
    "\n",
    "# Learn parameters to equalize odds and apply to create a new dataset\n",
    "\n",
    "for i in range(0,10):\n",
    "    cpp = CalibratedEqOddsPostprocessing(privileged_groups = priv,\n",
    "                                     unprivileged_groups = unpriv,\n",
    "                                     cost_constraint=cost_constraint,\n",
    "                                     seed=randseed)\n",
    "    cpp = cpp.fit(dataset_orig_test[i], dataset_orig_test_pred[i])\n",
    "    \n",
    "    dataset_orig_test_transf_calibratedEqualityOdds_pred[i] = cpp.predict(dataset_orig_test_pred[i])\n",
    "    \n",
    "    metric_otr_classification = ClassificationMetric(dataset_orig_test[i], dataset_orig_test_transf_calibratedEqualityOdds_pred[i], unprivileged_groups=unpriv, privileged_groups=priv)\n",
    "    \n",
    "    adult_calibratedEqualityOdds_disparate_impact[i] = metric_otr_classification.disparate_impact()\n",
    "    adult_calibratedEqualityOdds_accuracy[i] = metric_otr_classification.accuracy()\n",
    "    adult_calibratedEqualityOdds_CV[i] = 1 - (-(metric_otr_classification.statistical_parity_difference()))\n",
    "    "
   ]
  },
  {
   "cell_type": "code",
   "execution_count": 22,
   "metadata": {},
   "outputs": [],
   "source": [
    "# rng = np.random.RandomState(0)\n",
    "# for marker in ['o', '.', ',', 'x', '+', 'v', '^', '<', '>', 's', 'd']:\n",
    "#     plt.plot(list(adult_calibratedEqualityOdds_CV.values()), list(adult_calibratedEqualityOdds_accuracy.values()), marker,\n",
    "#              label=\"marker='{0}'\".format(marker))\n",
    "# plt.legend(numpoints=1)\n",
    "# plt.xlim(0, 1.8);\n",
    "\n",
    "\n",
    "# for i in range(0,11):\n",
    "#     plt.plot()"
   ]
  },
  {
   "cell_type": "code",
   "execution_count": 23,
   "metadata": {},
   "outputs": [
    {
     "data": {
      "image/png": "[encoded data removed]",
      "text/plain": [
       "<Figure size 432x288 with 1 Axes>"
      ]
     },
     "metadata": {
      "needs_background": "light"
     },
     "output_type": "display_data"
    }
   ],
   "source": [
    "plt.plot(list(adult_calibratedEqualityOdds_CV.values()), list(adult_calibratedEqualityOdds_accuracy.values()), 'ro')\n",
    "plt.ylabel('Calibrated Equality of Odds: accuracy')\n",
    "plt.xlabel('Calibrated Equality of Odds: CV')\n",
    "plt.show()"
   ]
  },
  {
   "cell_type": "code",
   "execution_count": 24,
   "metadata": {},
   "outputs": [],
   "source": [
    "# # from matplotlib import pyplot as plt \n",
    "\n",
    "# #generate a list of markers and another of colors \n",
    "# markers = [\".\" , \",\" , \"o\" , \"v\" , \"^\" , \"<\", \">\", \"+\", \"x\", \"s\"]\n",
    "# colors = ['r','g','b','c','m', 'y', 'k', 'black', 'lightcoral', 'darkorchid', '']\n",
    "\n",
    "# #make a sample dataset\n",
    "# x = np.arange(0,11)  #test x values.. every feature gets the same x values but you can generalize this\n",
    "# y = [s*x for s in np.arange(10)] #generate 7 arrays of y values \n",
    "\n",
    "\n",
    "# for i in range(0,11): #for each of the 7 features \n",
    "#     mi = markers[i] #marker for ith feature \n",
    "#     xi = x #x array for ith feature .. here is where you would generalize      different x for every feature\n",
    "#     yi = y[i] #y array for ith feature \n",
    "#     ci = colors[i] #color for ith feature \n",
    "# #     plt.scatter(xi,yi,marker=mi, color=ci) \n",
    "# # plt.show() "
   ]
  },
  {
   "cell_type": "markdown",
   "metadata": {},
   "source": [
    "## Random Forest"
   ]
  },
  {
   "cell_type": "markdown",
   "metadata": {},
   "source": [
    "### We performed the above the algos with Logistic Regression. Let's Try with Random Forest as well"
   ]
  },
  {
   "cell_type": "markdown",
   "metadata": {},
   "source": [
    "#### Right now we have taken random values for estimators and minsampleleaf, for demo purposes."
   ]
  },
  {
   "cell_type": "code",
   "execution_count": 25,
   "metadata": {},
   "outputs": [],
   "source": [
    "nestimators = 500\n",
    "minsamplesleaf = 25"
   ]
  },
  {
   "cell_type": "code",
   "execution_count": 26,
   "metadata": {},
   "outputs": [],
   "source": [
    "dataset_orig_test_transf_pred = {}\n",
    "adult_disparateImpactRemover_disparate_impact = {}\n",
    "adult_disparateImpactRemover_accuracy = {}\n",
    "adult_disparateImpactRemover_CV = {}\n",
    "\n",
    "\n",
    "\n",
    "for i in range(0, 10):\n",
    "    X_tr = np.delete(dataset_orig_train_transf[i].features, index, axis=1)\n",
    "    X_te = np.delete(dataset_orig_test_transf[i].features, index, axis=1)\n",
    "    y_tr = dataset_orig_train_transf[i].labels.ravel()\n",
    "    \n",
    "#     lmod = LogisticRegression(class_weight='balanced', solver='liblinear')\n",
    "#     lmod.fit(X_tr, y_tr)\n",
    "    rfmod = RandomForestClassifier(n_estimators = nestimators, min_samples_leaf = minsamplesleaf)\n",
    "    rfmod.fit(X_tr, y_tr)\n",
    "    \n",
    "    dataset_orig_test_transf_pred[i] = dataset_orig_test_transf[i].copy()\n",
    "    dataset_orig_test_transf_pred[i].labels = rfmod.predict(X_te)\n",
    "    \n",
    "    \n",
    "    metric_otr_classification = ClassificationMetric(dataset_orig_test_transf[i], dataset_orig_test_transf_pred[i], unprivileged_groups=unpriv, privileged_groups=priv)\n",
    "    \n",
    "    adult_disparateImpactRemover_disparate_impact[i] = metric_otr_classification.disparate_impact()\n",
    "    adult_disparateImpactRemover_accuracy[i] = metric_otr_classification.accuracy()\n",
    "    adult_disparateImpactRemover_CV[i] = 1 - (-(metric_otr_classification.statistical_parity_difference()))\n"
   ]
  },
  {
   "cell_type": "markdown",
   "metadata": {},
   "source": [
    "#### Now we can plot to see how the trade-off between fairness and accuracy changes when we use different input splits\n",
    "#### For fairness we are using CV measure and for accuracy we are using the generic accuracy measure"
   ]
  },
  {
   "cell_type": "markdown",
   "metadata": {},
   "source": [
    "Goal 1"
   ]
  },
  {
   "cell_type": "code",
   "execution_count": 27,
   "metadata": {},
   "outputs": [
    {
     "data": {
      "image/png": "[encoded data removed]",
      "text/plain": [
       "<Figure size 432x288 with 1 Axes>"
      ]
     },
     "metadata": {
      "needs_background": "light"
     },
     "output_type": "display_data"
    }
   ],
   "source": [
    "import matplotlib.pyplot as plt\n",
    "%matplotlib inline \n",
    "\n",
    "plt.plot(list(adult_disparateImpactRemover_CV.values()), list(adult_disparateImpactRemover_accuracy.values()), 'ro')\n",
    "plt.ylabel('Random Forest - accuracy')\n",
    "plt.xlabel('Random Forest - CV')\n",
    "plt.show()"
   ]
  },
  {
   "cell_type": "markdown",
   "metadata": {},
   "source": [
    "### Automate the search for best repair level value in Disparate Impact Remover"
   ]
  },
  {
   "cell_type": "markdown",
   "metadata": {},
   "source": [
    "Goal 4"
   ]
  },
  {
   "cell_type": "code",
   "execution_count": 28,
   "metadata": {},
   "outputs": [],
   "source": [
    "# Create the algorithm object\n",
    "# repair_level=1.0 means we want to maximise fairness.\n",
    "# di = DisparateImpactRemover(repair_level=1.0)\n",
    "di = {}\n",
    "repair_level = [0.0, 0.25, 0.5, 0.75, 1.0]\n",
    "for i in range(len(repair_level)):\n",
    "    di[i] = DisparateImpactRemover(repair_level=repair_level[i])"
   ]
  },
  {
   "cell_type": "code",
   "execution_count": 29,
   "metadata": {},
   "outputs": [],
   "source": [
    "dataset_orig_train_transf_automate = {}\n",
    "dataset_orig_test_transf_automate = {}\n",
    "\n",
    "dataset_orig_test_transf_pred_automate = {}\n",
    "adult_disparateImpactRemover_disparate_impact_automate = {}\n",
    "adult_disparateImpactRemover_accuracy_automate = {}\n",
    "adult_disparateImpactRemover_CV_automate = {}\n",
    "\n",
    "pos = 0\n",
    "\n",
    "for j in range(len(repair_level)):\n",
    "    for i in range(0,10):\n",
    "        dataset_orig_train_transf_automate[pos] = di[j].fit_transform(dataset_orig_train[i])\n",
    "        dataset_orig_test_transf_automate[pos] = di[j].fit_transform(dataset_orig_test[i])\n",
    "        \n",
    "        X_tr = np.delete(dataset_orig_train_transf_automate[pos].features, index, axis=1)\n",
    "        X_te = np.delete(dataset_orig_test_transf_automate[pos].features, index, axis=1)\n",
    "        y_tr = dataset_orig_train_transf_automate[pos].labels.ravel()\n",
    "\n",
    "        lmod = LogisticRegression(class_weight='balanced', solver='liblinear')\n",
    "        lmod.fit(X_tr, y_tr)\n",
    "\n",
    "        dataset_orig_test_transf_pred_automate[pos] = dataset_orig_test_transf_automate[pos].copy()\n",
    "        dataset_orig_test_transf_pred_automate[pos].labels = lmod.predict(X_te)\n",
    "\n",
    "\n",
    "        metric_otr_classification = ClassificationMetric(dataset_orig_test_transf_automate[pos], dataset_orig_test_transf_pred_automate[pos], unprivileged_groups=unpriv, privileged_groups=priv)\n",
    "\n",
    "        adult_disparateImpactRemover_disparate_impact_automate[pos] = metric_otr_classification.disparate_impact()\n",
    "        adult_disparateImpactRemover_accuracy_automate[pos] = metric_otr_classification.accuracy()\n",
    "        adult_disparateImpactRemover_CV_automate[pos] = 1 - (-(metric_otr_classification.statistical_parity_difference()))\n",
    "        \n",
    "        pos += 1"
   ]
  },
  {
   "cell_type": "markdown",
   "metadata": {},
   "source": [
    "#### Now we can plot to see how the trade-off between fairness and accuracy changes when we use different input splits\n",
    "#### For fairness we are using CV measure and for accuracy we are using the generic accuracy measure"
   ]
  },
  {
   "cell_type": "code",
   "execution_count": 33,
   "metadata": {},
   "outputs": [],
   "source": [
    "g1_CV = (list(adult_disparateImpactRemover_CV_automate.values())[:11], list(adult_disparateImpactRemover_accuracy_automate.values())[:11])\n",
    "g2_CV = (list(adult_disparateImpactRemover_CV_automate.values())[11:21], list(adult_disparateImpactRemover_accuracy_automate.values())[11:21])\n",
    "\n",
    "g3_CV = (list(adult_disparateImpactRemover_CV_automate.values())[22:32], list(adult_disparateImpactRemover_accuracy_automate.values())[22:32])\n",
    "\n",
    "g4_CV = (list(adult_disparateImpactRemover_CV_automate.values())[33:43], list(adult_disparateImpactRemover_accuracy_automate.values())[33:43])\n",
    "\n",
    "g5_CV = (list(adult_disparateImpactRemover_CV_automate.values())[44:], list(adult_disparateImpactRemover_accuracy_automate.values())[44:])\n",
    "\n"
   ]
  },
  {
   "cell_type": "code",
   "execution_count": 30,
   "metadata": {},
   "outputs": [],
   "source": [
    "g1 = (list(adult_disparateImpactRemover_disparate_impact_automate.values())[:11], list(adult_disparateImpactRemover_accuracy_automate.values())[:11])\n",
    "g2 = (list(adult_disparateImpactRemover_disparate_impact_automate.values())[11:21], list(adult_disparateImpactRemover_accuracy_automate.values())[11:21])\n",
    "\n",
    "g3 = (list(adult_disparateImpactRemover_disparate_impact_automate.values())[22:32], list(adult_disparateImpactRemover_accuracy_automate.values())[22:32])\n",
    "\n",
    "g4 = (list(adult_disparateImpactRemover_disparate_impact_automate.values())[33:43], list(adult_disparateImpactRemover_accuracy_automate.values())[33:43])\n",
    "\n",
    "g5 = (list(adult_disparateImpactRemover_disparate_impact_automate.values())[44:], list(adult_disparateImpactRemover_accuracy_automate.values())[44:])\n",
    "\n"
   ]
  },
  {
   "cell_type": "code",
   "execution_count": 31,
   "metadata": {},
   "outputs": [],
   "source": [
    "groups = {\"0.0\" : g1, \"0.25\" : g2, \"0.5\" : g3, \"0.75\" : g4, \"1.0\" : g5}"
   ]
  },
  {
   "cell_type": "code",
   "execution_count": 34,
   "metadata": {},
   "outputs": [],
   "source": [
    "groups_CV = {\"0.0\" : g1_CV, \"0.25\" : g2_CV, \"0.5\" : g3_CV, \"0.75\" : g4_CV, \"1.0\" : g5_CV}"
   ]
  },
  {
   "cell_type": "code",
   "execution_count": 32,
   "metadata": {},
   "outputs": [
    {
     "data": {
      "image/png": "[encoded data removed]",
      "text/plain": [
       "<Figure size 432x288 with 1 Axes>"
      ]
     },
     "metadata": {
      "needs_background": "light"
     },
     "output_type": "display_data"
    }
   ],
   "source": [
    "fig, ax = plt.subplots()\n",
    "ax.margins(0.05) # Optional, just adds 5% padding to the autoscaling\n",
    "for name, group in groups.items():\n",
    "    ax.plot(group[0], group[1], marker='.', linestyle='', ms=12, label=name)\n",
    "ax.legend()\n",
    "plt.ylabel('accuracy')\n",
    "plt.xlabel('DI')\n",
    "plt.show()"
   ]
  },
  {
   "cell_type": "code",
   "execution_count": 35,
   "metadata": {},
   "outputs": [
    {
     "data": {
      "image/png": "[encoded data removed]",
      "text/plain": [
       "<Figure size 432x288 with 1 Axes>"
      ]
     },
     "metadata": {
      "needs_background": "light"
     },
     "output_type": "display_data"
    }
   ],
   "source": [
    "fig, ax = plt.subplots()\n",
    "ax.margins(0.05) # Optional, just adds 5% padding to the autoscaling\n",
    "for name, group in groups_CV.items():\n",
    "    ax.plot(group[0], group[1], marker='.', linestyle='', ms=12, label=name)\n",
    "ax.legend()\n",
    "plt.ylabel('accuracy')\n",
    "plt.xlabel('CV')\n",
    "plt.show()"
   ]
  },
  {
   "cell_type": "markdown",
   "metadata": {},
   "source": [
    "## Trying another dataset - Compas"
   ]
  },
  {
   "cell_type": "code",
   "execution_count": 36,
   "metadata": {},
   "outputs": [
    {
     "name": "stderr",
     "output_type": "stream",
     "text": [
      "WARNING:root:Missing Data: 5 rows removed from CompasDataset.\n"
     ]
    }
   ],
   "source": [
    "## import dataset\n",
    "dataset_used = \"compas\" # \"adult\", \"german\", \"compas\"\n",
    "protected_attribute_used = 1 # 1, 2\n",
    "\n",
    "if dataset_used == \"adult\":\n",
    "    dataset_orig = AdultDataset()\n",
    "    if protected_attribute_used == 1:\n",
    "        privileged_groups = [{'sex': 1}]\n",
    "        unprivileged_groups = [{'sex': 0}]\n",
    "        dataset_orig = load_preproc_data_adult(['sex'])\n",
    "    else:\n",
    "        privileged_groups = [{'race': 1}]\n",
    "        unprivileged_groups = [{'race': 0}]\n",
    "        dataset_orig = load_preproc_data_adult(['race'])\n",
    "    \n",
    "elif dataset_used == \"german\":\n",
    "    dataset_orig = GermanDataset()\n",
    "    if protected_attribute_used == 1:\n",
    "        privileged_groups = [{'sex': 1}]\n",
    "        unprivileged_groups = [{'sex': 0}]\n",
    "        dataset_orig = load_preproc_data_german(['sex'])\n",
    "    else:\n",
    "        privileged_groups = [{'age': 1}]\n",
    "        unprivileged_groups = [{'age': 0}]\n",
    "        dataset_orig = load_preproc_data_german(['age'])\n",
    "    \n",
    "elif dataset_used == \"compas\":\n",
    "    dataset_orig = CompasDataset()\n",
    "    if protected_attribute_used == 1:\n",
    "        privileged_groups = [{'sex': 0}]\n",
    "        unprivileged_groups = [{'sex': 1}]\n",
    "        dataset_orig = load_preproc_data_compas(['sex'])\n",
    "    else:\n",
    "        privileged_groups = [{'race': 1}]\n",
    "        unprivileged_groups = [{'race': 0}]  \n",
    "        dataset_orig = load_preproc_data_compas(['race'])\n",
    "\n",
    "        "
   ]
  },
  {
   "cell_type": "markdown",
   "metadata": {},
   "source": [
    "#### In Compas dataset, female: 1 and male: 0\n",
    "#### female is the priviledged class"
   ]
  },
  {
   "cell_type": "code",
   "execution_count": 37,
   "metadata": {},
   "outputs": [
    {
     "data": {
      "text/markdown": [
       "#### Dataset shape"
      ],
      "text/plain": [
       "<IPython.core.display.Markdown object>"
      ]
     },
     "metadata": {},
     "output_type": "display_data"
    },
    {
     "name": "stdout",
     "output_type": "stream",
     "text": [
      "(5278, 10)\n"
     ]
    },
    {
     "data": {
      "text/markdown": [
       "#### Favorable and unfavorable labels"
      ],
      "text/plain": [
       "<IPython.core.display.Markdown object>"
      ]
     },
     "metadata": {},
     "output_type": "display_data"
    },
    {
     "name": "stdout",
     "output_type": "stream",
     "text": [
      "0.0 1.0\n"
     ]
    },
    {
     "data": {
      "text/markdown": [
       "#### Protected attribute names"
      ],
      "text/plain": [
       "<IPython.core.display.Markdown object>"
      ]
     },
     "metadata": {},
     "output_type": "display_data"
    },
    {
     "name": "stdout",
     "output_type": "stream",
     "text": [
      "['sex']\n"
     ]
    },
    {
     "data": {
      "text/markdown": [
       "#### Privileged and unprivileged protected attribute values"
      ],
      "text/plain": [
       "<IPython.core.display.Markdown object>"
      ]
     },
     "metadata": {},
     "output_type": "display_data"
    },
    {
     "name": "stdout",
     "output_type": "stream",
     "text": [
      "[array([1.])] [array([0.])]\n"
     ]
    },
    {
     "data": {
      "text/markdown": [
       "#### Dataset feature names"
      ],
      "text/plain": [
       "<IPython.core.display.Markdown object>"
      ]
     },
     "metadata": {},
     "output_type": "display_data"
    },
    {
     "name": "stdout",
     "output_type": "stream",
     "text": [
      "['sex', 'race', 'age_cat=25 to 45', 'age_cat=Greater than 45', 'age_cat=Less than 25', 'priors_count=0', 'priors_count=1 to 3', 'priors_count=More than 3', 'c_charge_degree=F', 'c_charge_degree=M']\n"
     ]
    }
   ],
   "source": [
    "# dataset_orig_adult = dataset_orig = AdultDataset(protected_attribute_names=['sex'], privileged_classes=[['Male']], features_to_drop=['fnlwgt','race'])\n",
    "\n",
    "\n",
    "# print out some labels, names, etc.\n",
    "display(Markdown(\"#### Dataset shape\"))\n",
    "print(dataset_orig.features.shape)\n",
    "display(Markdown(\"#### Favorable and unfavorable labels\"))\n",
    "print(dataset_orig.favorable_label, dataset_orig.unfavorable_label)\n",
    "display(Markdown(\"#### Protected attribute names\"))\n",
    "print(dataset_orig.protected_attribute_names)\n",
    "display(Markdown(\"#### Privileged and unprivileged protected attribute values\"))\n",
    "print(dataset_orig.privileged_protected_attributes, dataset_orig.unprivileged_protected_attributes)\n",
    "display(Markdown(\"#### Dataset feature names\"))\n",
    "print(dataset_orig.feature_names)\n"
   ]
  },
  {
   "cell_type": "code",
   "execution_count": 38,
   "metadata": {},
   "outputs": [],
   "source": [
    "# dataset_orig_train, dataset_orig_test = dataset_orig_adult.split([0.7], shuffle=True)\n",
    "dataset_orig_train = {}\n",
    "dataset_orig_test = {}\n",
    "\n",
    "for i in range(0,10):\n",
    "    dataset_orig_train[i], dataset_orig_test[i] = dataset_orig.split([0.7], shuffle=True)\n",
    "    "
   ]
  },
  {
   "cell_type": "markdown",
   "metadata": {},
   "source": [
    "#### Test for disparate impact values for each train split"
   ]
  },
  {
   "cell_type": "code",
   "execution_count": 39,
   "metadata": {},
   "outputs": [],
   "source": [
    "# Define privileged and unprivileged groups\n",
    "priv = [{'sex': 1}] # Female\n",
    "unpriv = [{'sex': 0}] # Male"
   ]
  },
  {
   "cell_type": "code",
   "execution_count": 40,
   "metadata": {},
   "outputs": [
    {
     "name": "stdout",
     "output_type": "stream",
     "text": [
      "Disparate Impact value for original train split 0 is:  0.7988274896819688\n",
      "Disparate Impact value for original train split 1 is:  0.7809304599635557\n",
      "Disparate Impact value for original train split 2 is:  0.7992958399925173\n",
      "Disparate Impact value for original train split 3 is:  0.774783827128739\n",
      "Disparate Impact value for original train split 4 is:  0.7729551440484014\n",
      "Disparate Impact value for original train split 5 is:  0.8081784319398236\n",
      "Disparate Impact value for original train split 6 is:  0.7920987124622264\n",
      "Disparate Impact value for original train split 7 is:  0.7657945501050256\n",
      "Disparate Impact value for original train split 8 is:  0.8061551184358202\n",
      "Disparate Impact value for original train split 9 is:  0.7989313074244687\n"
     ]
    }
   ],
   "source": [
    "for i in range(0,10):\n",
    "    metric_otr = BinaryLabelDatasetMetric( dataset_orig_train[i],\n",
    "    unprivileged_groups=unpriv, privileged_groups=priv)\n",
    "    \n",
    "    print(\"Disparate Impact value for original train split {} is: \".format(i), metric_otr.disparate_impact())"
   ]
  },
  {
   "cell_type": "code",
   "execution_count": 41,
   "metadata": {},
   "outputs": [
    {
     "name": "stdout",
     "output_type": "stream",
     "text": [
      "Disparate Impact value for original test split 0 is:  0.765694799658994\n",
      "Disparate Impact value for original test split 1 is:  0.8062566654816921\n",
      "Disparate Impact value for original test split 2 is:  0.7627329192546585\n",
      "Disparate Impact value for original test split 3 is:  0.8208001918541907\n",
      "Disparate Impact value for original test split 4 is:  0.8241335044929397\n",
      "Disparate Impact value for original test split 5 is:  0.7469196740050175\n",
      "Disparate Impact value for original test split 6 is:  0.7800237812128419\n",
      "Disparate Impact value for original test split 7 is:  0.8450279161007996\n",
      "Disparate Impact value for original test split 8 is:  0.7485947106848508\n",
      "Disparate Impact value for original test split 9 is:  0.7647599197159178\n"
     ]
    }
   ],
   "source": [
    "for i in range(0,10):\n",
    "    metric_otr = BinaryLabelDatasetMetric( dataset_orig_test[i],\n",
    "    unprivileged_groups=unpriv, privileged_groups=priv)\n",
    "    \n",
    "    print(\"Disparate Impact value for original test split {} is: \".format(i), metric_otr.disparate_impact())"
   ]
  },
  {
   "cell_type": "markdown",
   "metadata": {},
   "source": [
    "#### Now we will use DiparateImpactRemover Algo to mitigate this bias"
   ]
  },
  {
   "cell_type": "code",
   "execution_count": 43,
   "metadata": {},
   "outputs": [],
   "source": [
    "# Create the algorithm object\n",
    "# repair_level=1.0 means we want to maximise fairness.\n",
    "di = DisparateImpactRemover(repair_level=1.0)"
   ]
  },
  {
   "cell_type": "code",
   "execution_count": 44,
   "metadata": {},
   "outputs": [],
   "source": [
    "dataset_orig_train_transf = {}\n",
    "dataset_orig_test_transf = {}\n",
    "\n",
    "for i in range(0,10):\n",
    "    dataset_orig_train_transf[i] = di.fit_transform(dataset_orig_train[i])\n",
    "    dataset_orig_test_transf[i] = di.fit_transform(dataset_orig_test[i])"
   ]
  },
  {
   "cell_type": "markdown",
   "metadata": {},
   "source": [
    "#### Now we will fit a Logistic Regression Classifier to this repaired dataset and obtain predictions "
   ]
  },
  {
   "cell_type": "code",
   "execution_count": 45,
   "metadata": {},
   "outputs": [],
   "source": [
    "protected = 'sex'\n",
    "index = dataset_orig_train_transf[0].feature_names.index(protected)"
   ]
  },
  {
   "cell_type": "code",
   "execution_count": 46,
   "metadata": {},
   "outputs": [],
   "source": [
    "dataset_orig_test_transf_pred = {}\n",
    "compas_disparateImpactRemover_disparate_impact = {}\n",
    "compas_disparateImpactRemover_accuracy = {}\n",
    "compas_disparateImpactRemover_CV = {}\n",
    "\n",
    "\n",
    "for i in range(0, 10):\n",
    "    X_tr = np.delete(dataset_orig_train_transf[i].features, index, axis=1)\n",
    "    X_te = np.delete(dataset_orig_test_transf[i].features, index, axis=1)\n",
    "    y_tr = dataset_orig_train_transf[i].labels.ravel()\n",
    "    \n",
    "    lmod = LogisticRegression(class_weight='balanced', solver='liblinear')\n",
    "    lmod.fit(X_tr, y_tr)\n",
    "    \n",
    "    dataset_orig_test_transf_pred[i] = dataset_orig_test_transf[i].copy()\n",
    "    dataset_orig_test_transf_pred[i].labels = lmod.predict(X_te)\n",
    "    \n",
    "    \n",
    "    metric_otr_classification = ClassificationMetric(dataset_orig_test_transf[i], dataset_orig_test_transf_pred[i], unprivileged_groups=unpriv, privileged_groups=priv)\n",
    "    \n",
    "    compas_disparateImpactRemover_disparate_impact[i] = metric_otr_classification.disparate_impact()\n",
    "    compas_disparateImpactRemover_accuracy[i] = metric_otr_classification.accuracy()\n",
    "    compas_disparateImpactRemover_CV[i] = 1 - (-(metric_otr_classification.statistical_parity_difference()))\n"
   ]
  },
  {
   "cell_type": "markdown",
   "metadata": {},
   "source": [
    "#### Now we can plot to see how the trade-off between fairness and accuracy changes when we use different input splits\n",
    "#### For fairness we are using CV measure and for accuracy we are using the generic accuracy measure"
   ]
  },
  {
   "cell_type": "markdown",
   "metadata": {},
   "source": [
    "Goal 1"
   ]
  },
  {
   "cell_type": "code",
   "execution_count": 47,
   "metadata": {},
   "outputs": [
    {
     "data": {
      "image/png": "[encoded data removed]",
      "text/plain": [
       "<Figure size 432x288 with 1 Axes>"
      ]
     },
     "metadata": {
      "needs_background": "light"
     },
     "output_type": "display_data"
    }
   ],
   "source": [
    "import matplotlib.pyplot as plt\n",
    "%matplotlib inline \n",
    "\n",
    "plt.plot(list(compas_disparateImpactRemover_CV.values()), list(compas_disparateImpactRemover_accuracy.values()), 'ro')\n",
    "plt.ylabel('accuracy')\n",
    "plt.xlabel('CV')\n",
    "plt.show()"
   ]
  },
  {
   "cell_type": "markdown",
   "metadata": {},
   "source": [
    "#### we can see that the repaired test pred dataset DI values did change when compared to the original test dataset"
   ]
  },
  {
   "cell_type": "code",
   "execution_count": 62,
   "metadata": {},
   "outputs": [
    {
     "data": {
      "text/plain": [
       "{0: 0.8003861236802413,\n",
       " 1: 0.7965517241379311,\n",
       " 2: 0.7560236998025016,\n",
       " 3: 0.7041329511230451,\n",
       " 4: 0.7699805068226121,\n",
       " 5: 0.7044003090423232,\n",
       " 6: 0.8008378988076056,\n",
       " 7: 0.7887820858984051,\n",
       " 8: 0.762503658353306,\n",
       " 9: 0.8032295455453855}"
      ]
     },
     "execution_count": 62,
     "metadata": {},
     "output_type": "execute_result"
    }
   ],
   "source": [
    "compas_disparateImpactRemover_disparate_impact"
   ]
  },
  {
   "cell_type": "markdown",
   "metadata": {},
   "source": [
    "## German Dataset"
   ]
  },
  {
   "cell_type": "code",
   "execution_count": 48,
   "metadata": {},
   "outputs": [
    {
     "name": "stderr",
     "output_type": "stream",
     "text": [
      "WARNING:root:'scores' has no well-defined meaning out of range [0, 1].\n",
      "WARNING:root:'scores' has no well-defined meaning out of range [0, 1].\n"
     ]
    }
   ],
   "source": [
    "## import dataset\n",
    "dataset_used = \"german\" # \"adult\", \"german\", \"compas\"\n",
    "protected_attribute_used = 1 # 1, 2\n",
    "\n",
    "if dataset_used == \"adult\":\n",
    "    dataset_orig = AdultDataset()\n",
    "    if protected_attribute_used == 1:\n",
    "        privileged_groups = [{'sex': 1}]\n",
    "        unprivileged_groups = [{'sex': 0}]\n",
    "        dataset_orig = load_preproc_data_adult(['sex'])\n",
    "    else:\n",
    "        privileged_groups = [{'race': 1}]\n",
    "        unprivileged_groups = [{'race': 0}]\n",
    "        dataset_orig = load_preproc_data_adult(['race'])\n",
    "    \n",
    "elif dataset_used == \"german\":\n",
    "    dataset_orig = GermanDataset()\n",
    "    if protected_attribute_used == 1:\n",
    "        privileged_groups = [{'sex': 1}]\n",
    "        unprivileged_groups = [{'sex': 0}]\n",
    "        dataset_orig = load_preproc_data_german(['sex'])\n",
    "    else:\n",
    "        privileged_groups = [{'age': 1}]\n",
    "        unprivileged_groups = [{'age': 0}]\n",
    "        dataset_orig = load_preproc_data_german(['age'])\n",
    "    \n",
    "elif dataset_used == \"compas\":\n",
    "    dataset_orig = CompasDataset()\n",
    "    if protected_attribute_used == 1:\n",
    "        privileged_groups = [{'sex': 0}]\n",
    "        unprivileged_groups = [{'sex': 1}]\n",
    "        dataset_orig = load_preproc_data_compas(['sex'])\n",
    "    else:\n",
    "        privileged_groups = [{'race': 1}]\n",
    "        unprivileged_groups = [{'race': 0}]  \n",
    "        dataset_orig = load_preproc_data_compas(['race'])\n",
    "\n",
    "        "
   ]
  },
  {
   "cell_type": "markdown",
   "metadata": {},
   "source": [
    "#### In german dataset: Male is 1, Female: 0\n",
    "#### Male is the priviledged class"
   ]
  },
  {
   "cell_type": "code",
   "execution_count": 49,
   "metadata": {},
   "outputs": [
    {
     "data": {
      "text/markdown": [
       "#### Dataset shape"
      ],
      "text/plain": [
       "<IPython.core.display.Markdown object>"
      ]
     },
     "metadata": {},
     "output_type": "display_data"
    },
    {
     "name": "stdout",
     "output_type": "stream",
     "text": [
      "(1000, 11)\n"
     ]
    },
    {
     "data": {
      "text/markdown": [
       "#### Favorable and unfavorable labels"
      ],
      "text/plain": [
       "<IPython.core.display.Markdown object>"
      ]
     },
     "metadata": {},
     "output_type": "display_data"
    },
    {
     "name": "stdout",
     "output_type": "stream",
     "text": [
      "1.0 2.0\n"
     ]
    },
    {
     "data": {
      "text/markdown": [
       "#### Protected attribute names"
      ],
      "text/plain": [
       "<IPython.core.display.Markdown object>"
      ]
     },
     "metadata": {},
     "output_type": "display_data"
    },
    {
     "name": "stdout",
     "output_type": "stream",
     "text": [
      "['sex']\n"
     ]
    },
    {
     "data": {
      "text/markdown": [
       "#### Privileged and unprivileged protected attribute values"
      ],
      "text/plain": [
       "<IPython.core.display.Markdown object>"
      ]
     },
     "metadata": {},
     "output_type": "display_data"
    },
    {
     "name": "stdout",
     "output_type": "stream",
     "text": [
      "[array([1.])] [array([0.])]\n"
     ]
    },
    {
     "data": {
      "text/markdown": [
       "#### Dataset feature names"
      ],
      "text/plain": [
       "<IPython.core.display.Markdown object>"
      ]
     },
     "metadata": {},
     "output_type": "display_data"
    },
    {
     "name": "stdout",
     "output_type": "stream",
     "text": [
      "['age', 'sex', 'credit_history=Delay', 'credit_history=None/Paid', 'credit_history=Other', 'savings=500+', 'savings=<500', 'savings=Unknown/None', 'employment=1-4 years', 'employment=4+ years', 'employment=Unemployed']\n"
     ]
    }
   ],
   "source": [
    "# dataset_orig_adult = dataset_orig = AdultDataset(protected_attribute_names=['sex'], privileged_classes=[['Male']], features_to_drop=['fnlwgt','race'])\n",
    "\n",
    "\n",
    "# print out some labels, names, etc.\n",
    "display(Markdown(\"#### Dataset shape\"))\n",
    "print(dataset_orig.features.shape)\n",
    "display(Markdown(\"#### Favorable and unfavorable labels\"))\n",
    "print(dataset_orig.favorable_label, dataset_orig.unfavorable_label)\n",
    "display(Markdown(\"#### Protected attribute names\"))\n",
    "print(dataset_orig.protected_attribute_names)\n",
    "display(Markdown(\"#### Privileged and unprivileged protected attribute values\"))\n",
    "print(dataset_orig.privileged_protected_attributes, dataset_orig.unprivileged_protected_attributes)\n",
    "display(Markdown(\"#### Dataset feature names\"))\n",
    "print(dataset_orig.feature_names)\n"
   ]
  },
  {
   "cell_type": "code",
   "execution_count": 50,
   "metadata": {},
   "outputs": [],
   "source": [
    "# dataset_orig_train, dataset_orig_test = dataset_orig_adult.split([0.7], shuffle=True)\n",
    "dataset_orig_train = {}\n",
    "dataset_orig_test = {}\n",
    "\n",
    "for i in range(0,10):\n",
    "    dataset_orig_train[i], dataset_orig_test[i] = dataset_orig.split([0.7], shuffle=True)\n",
    "    "
   ]
  },
  {
   "cell_type": "markdown",
   "metadata": {},
   "source": [
    "#### Test for disparate impact values for each train split"
   ]
  },
  {
   "cell_type": "code",
   "execution_count": 51,
   "metadata": {},
   "outputs": [],
   "source": [
    "# Define privileged and unprivileged groups\n",
    "priv = [{'sex': 1}] # Male\n",
    "unpriv = [{'sex': 0}] # Female"
   ]
  },
  {
   "cell_type": "code",
   "execution_count": 52,
   "metadata": {},
   "outputs": [
    {
     "name": "stdout",
     "output_type": "stream",
     "text": [
      "Disparate Impact value for original train split 0 is:  0.9110141124173204\n",
      "Disparate Impact value for original train split 1 is:  0.9066316236593394\n",
      "Disparate Impact value for original train split 2 is:  0.9166853687837463\n",
      "Disparate Impact value for original train split 3 is:  0.8772765443762137\n",
      "Disparate Impact value for original train split 4 is:  0.9219413549039434\n",
      "Disparate Impact value for original train split 5 is:  0.9049672300793377\n",
      "Disparate Impact value for original train split 6 is:  0.9580820770519263\n",
      "Disparate Impact value for original train split 7 is:  0.8885233918128654\n",
      "Disparate Impact value for original train split 8 is:  0.8712273895299038\n",
      "Disparate Impact value for original train split 9 is:  0.9069155115000388\n"
     ]
    }
   ],
   "source": [
    "for i in range(0,10):\n",
    "    metric_otr = BinaryLabelDatasetMetric( dataset_orig_train[i],\n",
    "    unprivileged_groups=unpriv, privileged_groups=priv)\n",
    "    \n",
    "    print(\"Disparate Impact value for original train split {} is: \".format(i), metric_otr.disparate_impact())"
   ]
  },
  {
   "cell_type": "code",
   "execution_count": 53,
   "metadata": {},
   "outputs": [
    {
     "name": "stdout",
     "output_type": "stream",
     "text": [
      "Disparate Impact value for original test split 0 is:  0.8641666666666665\n",
      "Disparate Impact value for original test split 1 is:  0.8742289968096421\n",
      "Disparate Impact value for original test split 2 is:  0.8556277056277055\n",
      "Disparate Impact value for original test split 3 is:  0.9430172476530093\n",
      "Disparate Impact value for original test split 4 is:  0.8407382091592618\n",
      "Disparate Impact value for original test split 5 is:  0.8819875776397514\n",
      "Disparate Impact value for original test split 6 is:  0.7839782228271437\n",
      "Disparate Impact value for original test split 7 is:  0.9192712190786549\n",
      "Disparate Impact value for original test split 8 is:  0.9587653725584759\n",
      "Disparate Impact value for original test split 9 is:  0.8672727272727273\n"
     ]
    }
   ],
   "source": [
    "for i in range(0,10):\n",
    "    metric_otr = BinaryLabelDatasetMetric( dataset_orig_test[i],\n",
    "    unprivileged_groups=unpriv, privileged_groups=priv)\n",
    "    \n",
    "    print(\"Disparate Impact value for original test split {} is: \".format(i), metric_otr.disparate_impact())"
   ]
  },
  {
   "cell_type": "markdown",
   "metadata": {},
   "source": [
    "#### Now we will use DiparateImpactRemover Algo to mitigate this bias"
   ]
  },
  {
   "cell_type": "code",
   "execution_count": 54,
   "metadata": {},
   "outputs": [],
   "source": [
    "# Create the algorithm object\n",
    "# repair_level=1.0 means we want to maximise fairness.\n",
    "di = DisparateImpactRemover(repair_level=1.0)"
   ]
  },
  {
   "cell_type": "code",
   "execution_count": 55,
   "metadata": {},
   "outputs": [],
   "source": [
    "dataset_orig_train_transf = {}\n",
    "dataset_orig_test_transf = {}\n",
    "\n",
    "for i in range(0,10):\n",
    "    dataset_orig_train_transf[i] = di.fit_transform(dataset_orig_train[i])\n",
    "    dataset_orig_test_transf[i] = di.fit_transform(dataset_orig_test[i])"
   ]
  },
  {
   "cell_type": "markdown",
   "metadata": {},
   "source": [
    "#### Now we will fit a Logistic Regression Classifier to this training dataset and obtain predictions on the test datasets\n"
   ]
  },
  {
   "cell_type": "code",
   "execution_count": 57,
   "metadata": {},
   "outputs": [],
   "source": [
    "protected = 'sex'\n",
    "index = dataset_orig_train_transf[0].feature_names.index(protected)"
   ]
  },
  {
   "cell_type": "code",
   "execution_count": 59,
   "metadata": {},
   "outputs": [],
   "source": [
    "dataset_orig_test_transf_pred = {}\n",
    "german_disparateImpactRemover_disparate_impact = {}\n",
    "german_disparateImpactRemover_accuracy = {}\n",
    "german_disparateImpactRemover_CV = {}\n",
    "\n",
    "\n",
    "for i in range(0, 10):\n",
    "    X_tr = np.delete(dataset_orig_train_transf[i].features, index, axis=1)\n",
    "    X_te = np.delete(dataset_orig_test_transf[i].features, index, axis=1)\n",
    "    y_tr = dataset_orig_train_transf[i].labels.ravel()\n",
    "    \n",
    "    lmod = LogisticRegression(class_weight='balanced', solver='liblinear')\n",
    "    lmod.fit(X_tr, y_tr)\n",
    "    \n",
    "    dataset_orig_test_transf_pred[i] = dataset_orig_test_transf[i].copy()\n",
    "    dataset_orig_test_transf_pred[i].labels = lmod.predict(X_te)\n",
    "    \n",
    "    \n",
    "    metric_otr_classification = ClassificationMetric(dataset_orig_test_transf[i], dataset_orig_test_transf_pred[i], unprivileged_groups=unpriv, privileged_groups=priv)\n",
    "    \n",
    "    german_disparateImpactRemover_disparate_impact[i] = metric_otr_classification.disparate_impact()\n",
    "    german_disparateImpactRemover_accuracy[i] = metric_otr_classification.accuracy()\n",
    "    german_disparateImpactRemover_CV[i] = 1 - (-(metric_otr_classification.statistical_parity_difference()))\n"
   ]
  },
  {
   "cell_type": "markdown",
   "metadata": {},
   "source": [
    "#### Now we can plot to see how the trade-off between fairness and accuracy changes when we use different input splits\n",
    "#### For fairness we are using CV measure and for accuracy we are using the generic accuracy measure"
   ]
  },
  {
   "cell_type": "markdown",
   "metadata": {},
   "source": [
    "Goal 1"
   ]
  },
  {
   "cell_type": "code",
   "execution_count": 60,
   "metadata": {},
   "outputs": [
    {
     "data": {
      "image/png": "[encoded data removed]",
      "text/plain": [
       "<Figure size 432x288 with 1 Axes>"
      ]
     },
     "metadata": {
      "needs_background": "light"
     },
     "output_type": "display_data"
    }
   ],
   "source": [
    "import matplotlib.pyplot as plt\n",
    "%matplotlib inline \n",
    "\n",
    "plt.plot(list(german_disparateImpactRemover_CV.values()), list(german_disparateImpactRemover_accuracy.values()), 'ro')\n",
    "plt.ylabel('accuracy')\n",
    "plt.xlabel('CV')\n",
    "plt.show()"
   ]
  },
  {
   "cell_type": "markdown",
   "metadata": {},
   "source": [
    "#### we can see that the repaired test pred dataset DI values did change when compared to the original test dataset"
   ]
  },
  {
   "cell_type": "code",
   "execution_count": 61,
   "metadata": {},
   "outputs": [
    {
     "data": {
      "text/plain": [
       "{0: 0.9417613636363635,\n",
       " 1: 0.8851877289377289,\n",
       " 2: 0.8459595959595959,\n",
       " 3: 0.8483318483318484,\n",
       " 4: 0.9129554655870445,\n",
       " 5: 0.6964922711058263,\n",
       " 6: 0.8698589894242069,\n",
       " 7: 1.0451162790697675,\n",
       " 8: 0.9270170739872783,\n",
       " 9: 0.7227272727272728}"
      ]
     },
     "execution_count": 61,
     "metadata": {},
     "output_type": "execute_result"
    }
   ],
   "source": [
    "german_disparateImpactRemover_disparate_impact"
   ]
  },
  {
   "cell_type": "code",
   "execution_count": null,
   "metadata": {},
   "outputs": [],
   "source": []
  }
 ],
 "metadata": {
  "kernelspec": {
   "display_name": "Python 3",
   "language": "python",
   "name": "python3"
  },
  "language_info": {
   "codemirror_mode": {
    "name": "ipython",
    "version": 3
   },
   "file_extension": ".py",
   "mimetype": "text/x-python",
   "name": "python",
   "nbconvert_exporter": "python",
   "pygments_lexer": "ipython3",
   "version": "3.6.7"
  }
 },
 "nbformat": 4,
 "nbformat_minor": 2
}
