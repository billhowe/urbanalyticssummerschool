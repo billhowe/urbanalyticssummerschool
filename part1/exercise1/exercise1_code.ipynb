{
 "cells": [
  {
   "cell_type": "markdown",
   "metadata": {},
   "source": [
    "# Exercise 1: Privacy-preserving Synthetic Data Generation\n",
    "\n",
    "Install the Data Synthesizer library."
   ]
  },
  {
   "cell_type": "code",
   "execution_count": 2,
   "metadata": {},
   "outputs": [],
   "source": [
    "# Adding current direcotry into sys.path\n",
    "import os, sys\n",
    "sys.path.append(os.getcwd() + '/DataSynthesizer/DataSynthesizer')"
   ]
  },
  {
   "cell_type": "code",
   "execution_count": 3,
   "metadata": {},
   "outputs": [
    {
     "name": "stderr",
     "output_type": "stream",
     "text": [
      "Matplotlib is building the font cache using fc-list. This may take a moment.\n"
     ]
    }
   ],
   "source": [
    "from DataDescriber import DataDescriber\n",
    "from DataGenerator import DataGenerator\n",
    "from ModelInspector import ModelInspector\n",
    "from lib.utils import normalize_given_distribution, read_json_file, pairwise_attributes_mutual_information, mutual_information, set_random_seed\n",
    "\n",
    "from IPython.display import clear_output\n",
    "from scipy.stats import entropy, ks_2samp\n",
    "from scipy.spatial.distance import euclidean\n",
    "from sklearn.metrics import mutual_info_score\n",
    "from random import randint\n",
    "import pandas as pd\n",
    "import matplotlib.pyplot as plt\n",
    "import seaborn as sns\n",
    "%matplotlib inline"
   ]
  },
  {
   "cell_type": "code",
   "execution_count": 4,
   "metadata": {},
   "outputs": [],
   "source": [
    "def generate_data_A(input_data_file, output_data_size, seed=None):\n",
    "    seed = seed or randint(0, 2**30)\n",
    "    description_file = description_files['A']\n",
    "    \n",
    "    describer = DataDescriber()\n",
    "    describer.describe_dataset_in_random_mode(input_data_file, seed=seed)\n",
    "    describer.save_dataset_description_to_file(description_file)\n",
    "    \n",
    "    generator = DataGenerator()\n",
    "    generator.generate_dataset_in_random_mode(output_data_size, description_file, seed=seed)\n",
    "    return generator.synthetic_dataset"
   ]
  },
  {
   "cell_type": "code",
   "execution_count": 5,
   "metadata": {},
   "outputs": [],
   "source": [
    "def generate_data_B(input_data_file, output_data_size, epsilon=0.1, seed=None):\n",
    "    seed = seed or randint(0, 2**30)\n",
    "    description_file = description_files['B']\n",
    "    \n",
    "    describer = DataDescriber()\n",
    "    describer.describe_dataset_in_independent_attribute_mode(input_data_file, epsilon=epsilon, seed=seed)\n",
    "    describer.save_dataset_description_to_file(description_file)\n",
    "    \n",
    "    generator = DataGenerator()\n",
    "    generator.generate_dataset_in_independent_mode(output_data_size, description_file, seed=seed)\n",
    "    return generator.synthetic_dataset"
   ]
  },
  {
   "cell_type": "code",
   "execution_count": 6,
   "metadata": {},
   "outputs": [],
   "source": [
    "def generate_data_CD(input_data_file, output_data_size, description_file, epsilon=0.5, k=1, seed=None):\n",
    "    seed = seed or randint(0, 2**30)\n",
    "    \n",
    "    describer = DataDescriber()\n",
    "    describer.describe_dataset_in_correlated_attribute_mode(input_data_file, k=k, epsilon=epsilon, seed=seed)\n",
    "    describer.save_dataset_description_to_file(description_file)\n",
    "    \n",
    "    generator = DataGenerator()\n",
    "    generator.generate_dataset_in_correlated_attribute_mode(output_data_size, description_file, seed=seed)\n",
    "    return generator.synthetic_dataset\n",
    "\n",
    "def generate_data_C(input_data_file, output_data_size, epsilon=0.1, seed=None):\n",
    "    return generate_data_CD(input_data_file, output_data_size, description_files['C'], epsilon, k=1, seed=seed)\n",
    "\n",
    "def generate_data_D(input_data_file, output_data_size, epsilon=0.1, seed=None):\n",
    "    return generate_data_CD(input_data_file, output_data_size, description_files['D'], epsilon, k=2, seed=seed)"
   ]
  },
  {
   "cell_type": "markdown",
   "metadata": {},
   "source": [
    "Start with a real dataset __hw_compas__ and a fake dataset __hw_xyz__. Generate synthetic datasets of size __N=10000__, in the following four categories:\n",
    "- A:  random mode\n",
    "- B: independent attribute mode with __epsilon = 0.1__\n",
    "- C:  correlated attribute mode with __epsilon = 0.1__, Bayes net degree k=1\n",
    "- D: correlated attribute mode with __epsilon = 0.1__, Bayes net degree k=2"
   ]
  },
  {
   "cell_type": "code",
   "execution_count": 18,
   "metadata": {},
   "outputs": [],
   "source": [
    "real_data_file = './hw_compas.csv'\n",
    "fake_data_file = './hw_fake.csv'\n",
    "output_data_size = 10000\n",
    "epsilon = 0.1\n",
    "\n",
    "seed = 0  # make the entire notebook reproducible\n",
    "\n",
    "os.mkdir('./out')\n",
    "description_files = {'A': './out/descrption_A.json', \n",
    "                     'B': './out/descrption_B.json', \n",
    "                     'C': './out/descrption_C.json', \n",
    "                     'D': './out/descrption_D.json'}\n",
    "\n",
    "df_real = pd.read_csv(real_data_file)\n",
    "df_fake = pd.read_csv(fake_data_file)\n",
    "\n",
    "set_random_seed(seed)\n",
    "\n",
    "df_real_A = generate_data_A(real_data_file, output_data_size)\n",
    "df_real_B = generate_data_B(real_data_file, output_data_size, epsilon=epsilon)\n",
    "df_real_C = generate_data_C(real_data_file, output_data_size, epsilon=epsilon)\n",
    "df_real_D = generate_data_D(real_data_file, output_data_size, epsilon=epsilon)\n",
    "\n",
    "df_fake_A = generate_data_A(fake_data_file, output_data_size)\n",
    "df_fake_B = generate_data_B(fake_data_file, output_data_size, epsilon=epsilon)\n",
    "df_fake_C = generate_data_C(fake_data_file, output_data_size, epsilon=epsilon)\n",
    "df_fake_D = generate_data_D(fake_data_file, output_data_size, epsilon=epsilon)\n",
    "\n",
    "clear_output()"
   ]
  },
  {
   "cell_type": "markdown",
   "metadata": {},
   "source": [
    "## Goal 1"
   ]
  },
  {
   "cell_type": "markdown",
   "metadata": {},
   "source": [
    "### Q1\n",
    "\n",
    "Median, Mean, Min, Max of __age__ and __score__ for each A, B, C and D, compare to the ground truth value in __hw_compas__, present results in a table"
   ]
  },
  {
   "cell_type": "code",
   "execution_count": 19,
   "metadata": {},
   "outputs": [
    {
     "data": {
      "text/html": [
       "<div>\n",
       "<style scoped>\n",
       "    .dataframe tbody tr th:only-of-type {\n",
       "        vertical-align: middle;\n",
       "    }\n",
       "\n",
       "    .dataframe tbody tr th {\n",
       "        vertical-align: top;\n",
       "    }\n",
       "\n",
       "    .dataframe thead th {\n",
       "        text-align: right;\n",
       "    }\n",
       "</style>\n",
       "<table border=\"1\" class=\"dataframe\">\n",
       "  <thead>\n",
       "    <tr style=\"text-align: right;\">\n",
       "      <th></th>\n",
       "      <th></th>\n",
       "      <th>hw_compas</th>\n",
       "      <th>A</th>\n",
       "      <th>B</th>\n",
       "      <th>C</th>\n",
       "      <th>D</th>\n",
       "    </tr>\n",
       "    <tr>\n",
       "      <th></th>\n",
       "      <th>measure</th>\n",
       "      <th></th>\n",
       "      <th></th>\n",
       "      <th></th>\n",
       "      <th></th>\n",
       "      <th></th>\n",
       "    </tr>\n",
       "  </thead>\n",
       "  <tbody>\n",
       "    <tr>\n",
       "      <th rowspan=\"4\" valign=\"top\">age</th>\n",
       "      <th>max</th>\n",
       "      <td>96.000000</td>\n",
       "      <td>100.0000</td>\n",
       "      <td>76.0000</td>\n",
       "      <td>94.0000</td>\n",
       "      <td>95.0000</td>\n",
       "    </tr>\n",
       "    <tr>\n",
       "      <th>mean</th>\n",
       "      <td>35.143319</td>\n",
       "      <td>50.1731</td>\n",
       "      <td>35.7354</td>\n",
       "      <td>35.0207</td>\n",
       "      <td>35.1191</td>\n",
       "    </tr>\n",
       "    <tr>\n",
       "      <th>median</th>\n",
       "      <td>32.000000</td>\n",
       "      <td>51.0000</td>\n",
       "      <td>33.0000</td>\n",
       "      <td>32.0000</td>\n",
       "      <td>32.0000</td>\n",
       "    </tr>\n",
       "    <tr>\n",
       "      <th>min</th>\n",
       "      <td>18.000000</td>\n",
       "      <td>0.0000</td>\n",
       "      <td>18.0000</td>\n",
       "      <td>18.0000</td>\n",
       "      <td>18.0000</td>\n",
       "    </tr>\n",
       "    <tr>\n",
       "      <th rowspan=\"4\" valign=\"top\">score</th>\n",
       "      <th>max</th>\n",
       "      <td>10.000000</td>\n",
       "      <td>10.0000</td>\n",
       "      <td>10.0000</td>\n",
       "      <td>10.0000</td>\n",
       "      <td>10.0000</td>\n",
       "    </tr>\n",
       "    <tr>\n",
       "      <th>mean</th>\n",
       "      <td>4.371268</td>\n",
       "      <td>4.9392</td>\n",
       "      <td>4.3657</td>\n",
       "      <td>4.3823</td>\n",
       "      <td>4.3745</td>\n",
       "    </tr>\n",
       "    <tr>\n",
       "      <th>median</th>\n",
       "      <td>4.000000</td>\n",
       "      <td>5.0000</td>\n",
       "      <td>4.0000</td>\n",
       "      <td>4.0000</td>\n",
       "      <td>4.0000</td>\n",
       "    </tr>\n",
       "    <tr>\n",
       "      <th>min</th>\n",
       "      <td>-1.000000</td>\n",
       "      <td>-1.0000</td>\n",
       "      <td>1.0000</td>\n",
       "      <td>-1.0000</td>\n",
       "      <td>-1.0000</td>\n",
       "    </tr>\n",
       "  </tbody>\n",
       "</table>\n",
       "</div>"
      ],
      "text/plain": [
       "               hw_compas         A        B        C        D\n",
       "      measure                                                \n",
       "age   max      96.000000  100.0000  76.0000  94.0000  95.0000\n",
       "      mean     35.143319   50.1731  35.7354  35.0207  35.1191\n",
       "      median   32.000000   51.0000  33.0000  32.0000  32.0000\n",
       "      min      18.000000    0.0000  18.0000  18.0000  18.0000\n",
       "score max      10.000000   10.0000  10.0000  10.0000  10.0000\n",
       "      mean      4.371268    4.9392   4.3657   4.3823   4.3745\n",
       "      median    4.000000    5.0000   4.0000   4.0000   4.0000\n",
       "      min      -1.000000   -1.0000   1.0000  -1.0000  -1.0000"
      ]
     },
     "execution_count": 19,
     "metadata": {},
     "output_type": "execute_result"
    }
   ],
   "source": [
    "df_q1_1 = pd.DataFrame()\n",
    "df_q1_1['hw_compas'] = df_real.median(numeric_only=True)\n",
    "df_q1_1['A'] = df_real_A.median(numeric_only=True)\n",
    "df_q1_1['B'] = df_real_B.median(numeric_only=True)\n",
    "df_q1_1['C'] = df_real_C.median(numeric_only=True)\n",
    "df_q1_1['D'] = df_real_D.median(numeric_only=True)\n",
    "df_q1_1.insert(loc=0, column='measure', value=['median'] * df_q1_1.shape[0])\n",
    "\n",
    "df_q1_2 = pd.DataFrame()\n",
    "df_q1_2['hw_compas'] = df_real.mean(numeric_only=True)\n",
    "df_q1_2['A'] = df_real_A.mean(numeric_only=True)\n",
    "df_q1_2['B'] = df_real_B.mean(numeric_only=True)\n",
    "df_q1_2['C'] = df_real_C.mean(numeric_only=True)\n",
    "df_q1_2['D'] = df_real_D.mean(numeric_only=True)\n",
    "df_q1_2.insert(loc=0, column='measure', value=['mean'] * df_q1_2.shape[0])\n",
    "\n",
    "df_q1_3 = pd.DataFrame()\n",
    "df_q1_3['hw_compas'] = df_real.min(numeric_only=True)\n",
    "df_q1_3['A'] = df_real_A.min(numeric_only=True)\n",
    "df_q1_3['B'] = df_real_B.min(numeric_only=True)\n",
    "df_q1_3['C'] = df_real_C.min(numeric_only=True)\n",
    "df_q1_3['D'] = df_real_D.min(numeric_only=True)\n",
    "df_q1_3.insert(loc=0, column='measure', value=['min'] * df_q1_3.shape[0])\n",
    "\n",
    "df_q1_4 = pd.DataFrame()\n",
    "df_q1_4['hw_compas'] = df_real.max(numeric_only=True)\n",
    "df_q1_4['A'] = df_real_A.max(numeric_only=True)\n",
    "df_q1_4['B'] = df_real_B.max(numeric_only=True)\n",
    "df_q1_4['C'] = df_real_C.max(numeric_only=True)\n",
    "df_q1_4['D'] = df_real_D.max(numeric_only=True)\n",
    "df_q1_4.insert(loc=0, column='measure', value=['max'] * df_q1_4.shape[0])\n",
    "\n",
    "df_q1 = pd.concat([df_q1_1, df_q1_2, df_q1_3, df_q1_4])\n",
    "df_q1.groupby([df_q1.index, 'measure']).first()"
   ]
  },
  {
   "cell_type": "markdown",
   "metadata": {},
   "source": [
    "### Q2\n",
    "\n",
    "Some more sophisticated statistical measure that’s good for independent attribute mode - __Two-sample Kolmogorov–Smirnov test__ and __KL-divergence__. Also show the difference visually, comparing real vs. synthetic"
   ]
  },
  {
   "cell_type": "code",
   "execution_count": 20,
   "metadata": {},
   "outputs": [
    {
     "data": {
      "image/png": "[encoded data removed]",
      "text/plain": [
       "<Figure size 1080x360 with 3 Axes>"
      ]
     },
     "metadata": {
      "needs_background": "light"
     },
     "output_type": "display_data"
    }
   ],
   "source": [
    "fig, axes = plt.subplots(1, 3, figsize=(9,3), dpi=120)\n",
    "axes[0].hist(df_real['age'])\n",
    "axes[1].hist(df_real_A['age'])\n",
    "axes[2].hist(df_real_B['age'])\n",
    "axes[0].set_xlabel('hw_compas dataset')\n",
    "axes[1].set_xlabel('by A')\n",
    "axes[2].set_xlabel('by B')\n",
    "axes[0].set_title('Distribution of age attribute')\n",
    "axes[1].set_title('Distribution of age attribute')\n",
    "axes[2].set_title('Distribution of age attribute')\n",
    "plt.tight_layout()"
   ]
  },
  {
   "cell_type": "code",
   "execution_count": 21,
   "metadata": {},
   "outputs": [],
   "source": [
    "def get_barplot_data(values: pd.Series):\n",
    "    counts = values.value_counts()\n",
    "    values = counts.index.tolist()\n",
    "    counts = counts.tolist()\n",
    "    return values, counts"
   ]
  },
  {
   "cell_type": "code",
   "execution_count": 22,
   "metadata": {},
   "outputs": [
    {
     "data": {
      "image/png": "[encoded data removed]",
      "text/plain": [
       "<Figure size 1080x360 with 3 Axes>"
      ]
     },
     "metadata": {
      "needs_background": "light"
     },
     "output_type": "display_data"
    }
   ],
   "source": [
    "fig, axes = plt.subplots(1, 3, figsize=(9,3), dpi=120)\n",
    "axes[0].bar(*get_barplot_data(df_real['sex']))\n",
    "axes[1].bar(*get_barplot_data(df_real_A['sex']))\n",
    "axes[2].bar(*get_barplot_data(df_real_B['sex']))\n",
    "axes[0].set_xlabel('hw_compas dataset')\n",
    "axes[1].set_xlabel('by A')\n",
    "axes[2].set_xlabel('by B')\n",
    "axes[0].set_title('Distribution of sex attribute')\n",
    "axes[1].set_title('Distribution of sex attribute')\n",
    "axes[2].set_title('Distribution of sex attribute')\n",
    "plt.tight_layout()"
   ]
  },
  {
   "cell_type": "markdown",
   "metadata": {},
   "source": [
    "#### Two-sample Kolmogorov–Smirnov test for continous attributes"
   ]
  },
  {
   "cell_type": "code",
   "execution_count": 23,
   "metadata": {},
   "outputs": [],
   "source": [
    "def ks_test(df_in: pd.DataFrame, df_out: pd.DataFrame, attr: str):\n",
    "    \"\"\"\n",
    "    df_in: the sensitive dataset\n",
    "    df_out: the synthetic dataset\n",
    "    attr: the attribute that will be calculated for Two-sample Kolmogorov–Smirnov test.\n",
    "    \"\"\"\n",
    "    return ks_2samp(df_in[attr], df_out[attr])[0]"
   ]
  },
  {
   "cell_type": "code",
   "execution_count": 24,
   "metadata": {},
   "outputs": [
    {
     "name": "stdout",
     "output_type": "stream",
     "text": [
      "KS-test(real, A) over age: 0.3735091775112699 \n",
      "KS-test(real, B) over age: 0.026252445351705345\n"
     ]
    }
   ],
   "source": [
    "ks_1 = ks_test(df_real, df_real_A, 'age')\n",
    "ks_2 = ks_test(df_real, df_real_B, 'age')\n",
    "print(f\"KS-test(real, A) over age: {ks_1} \\nKS-test(real, B) over age: {ks_2}\")"
   ]
  },
  {
   "cell_type": "markdown",
   "metadata": {},
   "source": [
    "#### KL-divergence for categorical attributes"
   ]
  },
  {
   "cell_type": "code",
   "execution_count": 25,
   "metadata": {},
   "outputs": [],
   "source": [
    "def get_distribution_of_categorical_attribute(attribute: pd.Series, indicies=None):\n",
    "    distribution = attribute.dropna().value_counts()\n",
    "    if indicies is not None:\n",
    "        for idx in set(indicies) - set(distribution.index):\n",
    "            distribution.loc[idx] = 0\n",
    "    distribution.sort_index(inplace=True)\n",
    "    return distribution/sum(distribution)\n",
    "\n",
    "def kl_test(df_in: pd.DataFrame, df_out: pd.DataFrame, attr: str):\n",
    "    \"\"\"\n",
    "    df_in: the sensitive dataset\n",
    "    df_out: the synthetic dataset\n",
    "    attr: the attribute that will be calculated for KL-divergence.\n",
    "    \"\"\"\n",
    "    distribution_in = get_distribution_of_categorical_attribute(df_in[attr])\n",
    "    distribution_out = get_distribution_of_categorical_attribute(df_out[attr], distribution_in.index)\n",
    "    return entropy(distribution_out, distribution_in)"
   ]
  },
  {
   "cell_type": "code",
   "execution_count": 26,
   "metadata": {},
   "outputs": [
    {
     "name": "stdout",
     "output_type": "stream",
     "text": [
      "KL-divergence(real, A) over sex: 0.22319792405369002 \n",
      "KL-divergence(real, B) over sex: 0.0002494300869420041\n"
     ]
    }
   ],
   "source": [
    "kl_1 = kl_test(df_real, df_real_A, 'sex')\n",
    "kl_2 = kl_test(df_real, df_real_B, 'sex')\n",
    "print(f\"KL-divergence(real, A) over sex: {kl_1} \\nKL-divergence(real, B) over sex: {kl_2}\")"
   ]
  },
  {
   "cell_type": "markdown",
   "metadata": {},
   "source": [
    "### Q3\n",
    "\n",
    "some more sophisticated statistical measure that’s good for correlated attribute mode, and will be better with k=2 (case D) than with k=1 (case C), __some distance over pairwise correlation coefficients? Also show the difference visually, comparing results on real vs. synthetic datasets__."
   ]
  },
  {
   "cell_type": "code",
   "execution_count": 27,
   "metadata": {},
   "outputs": [],
   "source": [
    "mi_fake = pairwise_attributes_mutual_information(df_fake)\n",
    "mi_fake_C = pairwise_attributes_mutual_information(df_fake_C)\n",
    "mi_fake_D = pairwise_attributes_mutual_information(df_fake_D)"
   ]
  },
  {
   "cell_type": "code",
   "execution_count": 28,
   "metadata": {},
   "outputs": [
    {
     "data": {
      "text/html": [
       "<div>\n",
       "<style scoped>\n",
       "    .dataframe tbody tr th:only-of-type {\n",
       "        vertical-align: middle;\n",
       "    }\n",
       "\n",
       "    .dataframe tbody tr th {\n",
       "        vertical-align: top;\n",
       "    }\n",
       "\n",
       "    .dataframe thead th {\n",
       "        text-align: right;\n",
       "    }\n",
       "</style>\n",
       "<table border=\"1\" class=\"dataframe\">\n",
       "  <thead>\n",
       "    <tr style=\"text-align: right;\">\n",
       "      <th></th>\n",
       "      <th>child_1</th>\n",
       "      <th>child_2</th>\n",
       "      <th>parent_1</th>\n",
       "      <th>parent_2</th>\n",
       "    </tr>\n",
       "  </thead>\n",
       "  <tbody>\n",
       "    <tr>\n",
       "      <th>child_1</th>\n",
       "      <td>1.000000</td>\n",
       "      <td>0.211242</td>\n",
       "      <td>0.214345</td>\n",
       "      <td>0.195899</td>\n",
       "    </tr>\n",
       "    <tr>\n",
       "      <th>child_2</th>\n",
       "      <td>0.211242</td>\n",
       "      <td>1.000000</td>\n",
       "      <td>0.208301</td>\n",
       "      <td>0.200690</td>\n",
       "    </tr>\n",
       "    <tr>\n",
       "      <th>parent_1</th>\n",
       "      <td>0.214345</td>\n",
       "      <td>0.208301</td>\n",
       "      <td>1.000000</td>\n",
       "      <td>0.002421</td>\n",
       "    </tr>\n",
       "    <tr>\n",
       "      <th>parent_2</th>\n",
       "      <td>0.195899</td>\n",
       "      <td>0.200690</td>\n",
       "      <td>0.002421</td>\n",
       "      <td>1.000000</td>\n",
       "    </tr>\n",
       "  </tbody>\n",
       "</table>\n",
       "</div>"
      ],
      "text/plain": [
       "           child_1   child_2  parent_1  parent_2\n",
       "child_1   1.000000  0.211242  0.214345  0.195899\n",
       "child_2   0.211242  1.000000  0.208301  0.200690\n",
       "parent_1  0.214345  0.208301  1.000000  0.002421\n",
       "parent_2  0.195899  0.200690  0.002421  1.000000"
      ]
     },
     "execution_count": 28,
     "metadata": {},
     "output_type": "execute_result"
    }
   ],
   "source": [
    "mi_fake"
   ]
  },
  {
   "cell_type": "code",
   "execution_count": 29,
   "metadata": {},
   "outputs": [
    {
     "data": {
      "text/html": [
       "<div>\n",
       "<style scoped>\n",
       "    .dataframe tbody tr th:only-of-type {\n",
       "        vertical-align: middle;\n",
       "    }\n",
       "\n",
       "    .dataframe tbody tr th {\n",
       "        vertical-align: top;\n",
       "    }\n",
       "\n",
       "    .dataframe thead th {\n",
       "        text-align: right;\n",
       "    }\n",
       "</style>\n",
       "<table border=\"1\" class=\"dataframe\">\n",
       "  <thead>\n",
       "    <tr style=\"text-align: right;\">\n",
       "      <th></th>\n",
       "      <th>child_1</th>\n",
       "      <th>child_2</th>\n",
       "      <th>parent_1</th>\n",
       "      <th>parent_2</th>\n",
       "    </tr>\n",
       "  </thead>\n",
       "  <tbody>\n",
       "    <tr>\n",
       "      <th>child_1</th>\n",
       "      <td>1.000000</td>\n",
       "      <td>0.045297</td>\n",
       "      <td>0.000851</td>\n",
       "      <td>0.195337</td>\n",
       "    </tr>\n",
       "    <tr>\n",
       "      <th>child_2</th>\n",
       "      <td>0.045297</td>\n",
       "      <td>1.000000</td>\n",
       "      <td>0.000768</td>\n",
       "      <td>0.204595</td>\n",
       "    </tr>\n",
       "    <tr>\n",
       "      <th>parent_1</th>\n",
       "      <td>0.000851</td>\n",
       "      <td>0.000768</td>\n",
       "      <td>1.000000</td>\n",
       "      <td>0.003526</td>\n",
       "    </tr>\n",
       "    <tr>\n",
       "      <th>parent_2</th>\n",
       "      <td>0.195337</td>\n",
       "      <td>0.204595</td>\n",
       "      <td>0.003526</td>\n",
       "      <td>1.000000</td>\n",
       "    </tr>\n",
       "  </tbody>\n",
       "</table>\n",
       "</div>"
      ],
      "text/plain": [
       "           child_1   child_2  parent_1  parent_2\n",
       "child_1   1.000000  0.045297  0.000851  0.195337\n",
       "child_2   0.045297  1.000000  0.000768  0.204595\n",
       "parent_1  0.000851  0.000768  1.000000  0.003526\n",
       "parent_2  0.195337  0.204595  0.003526  1.000000"
      ]
     },
     "execution_count": 29,
     "metadata": {},
     "output_type": "execute_result"
    }
   ],
   "source": [
    "mi_fake_C"
   ]
  },
  {
   "cell_type": "code",
   "execution_count": 30,
   "metadata": {},
   "outputs": [
    {
     "data": {
      "text/html": [
       "<div>\n",
       "<style scoped>\n",
       "    .dataframe tbody tr th:only-of-type {\n",
       "        vertical-align: middle;\n",
       "    }\n",
       "\n",
       "    .dataframe tbody tr th {\n",
       "        vertical-align: top;\n",
       "    }\n",
       "\n",
       "    .dataframe thead th {\n",
       "        text-align: right;\n",
       "    }\n",
       "</style>\n",
       "<table border=\"1\" class=\"dataframe\">\n",
       "  <thead>\n",
       "    <tr style=\"text-align: right;\">\n",
       "      <th></th>\n",
       "      <th>child_1</th>\n",
       "      <th>child_2</th>\n",
       "      <th>parent_1</th>\n",
       "      <th>parent_2</th>\n",
       "    </tr>\n",
       "  </thead>\n",
       "  <tbody>\n",
       "    <tr>\n",
       "      <th>child_1</th>\n",
       "      <td>1.000000</td>\n",
       "      <td>0.201430</td>\n",
       "      <td>0.213931</td>\n",
       "      <td>0.191380</td>\n",
       "    </tr>\n",
       "    <tr>\n",
       "      <th>child_2</th>\n",
       "      <td>0.201430</td>\n",
       "      <td>1.000000</td>\n",
       "      <td>0.200965</td>\n",
       "      <td>0.202915</td>\n",
       "    </tr>\n",
       "    <tr>\n",
       "      <th>parent_1</th>\n",
       "      <td>0.213931</td>\n",
       "      <td>0.200965</td>\n",
       "      <td>1.000000</td>\n",
       "      <td>0.002239</td>\n",
       "    </tr>\n",
       "    <tr>\n",
       "      <th>parent_2</th>\n",
       "      <td>0.191380</td>\n",
       "      <td>0.202915</td>\n",
       "      <td>0.002239</td>\n",
       "      <td>1.000000</td>\n",
       "    </tr>\n",
       "  </tbody>\n",
       "</table>\n",
       "</div>"
      ],
      "text/plain": [
       "           child_1   child_2  parent_1  parent_2\n",
       "child_1   1.000000  0.201430  0.213931  0.191380\n",
       "child_2   0.201430  1.000000  0.200965  0.202915\n",
       "parent_1  0.213931  0.200965  1.000000  0.002239\n",
       "parent_2  0.191380  0.202915  0.002239  1.000000"
      ]
     },
     "execution_count": 30,
     "metadata": {},
     "output_type": "execute_result"
    }
   ],
   "source": [
    "mi_fake_D"
   ]
  },
  {
   "cell_type": "code",
   "execution_count": 31,
   "metadata": {},
   "outputs": [
    {
     "data": {
      "image/png": "[encoded data removed]",
      "text/plain": [
       "<Figure size 1080x360 with 6 Axes>"
      ]
     },
     "metadata": {
      "needs_background": "light"
     },
     "output_type": "display_data"
    }
   ],
   "source": [
    "fig, axes = plt.subplots(1, 3, figsize=(9,3), dpi=120)\n",
    "sns.heatmap(mi_fake, cmap=\"YlGnBu\", vmax=1, vmin=0, ax=axes[0])\n",
    "sns.heatmap(mi_fake_C, cmap=\"YlGnBu\", vmax=1, vmin=0, ax=axes[1])\n",
    "sns.heatmap(mi_fake_D, cmap=\"YlGnBu\", vmax=1, vmin=0, ax=axes[2])\n",
    "axes[0].set_xlabel('hw_compas dataset')\n",
    "axes[1].set_xlabel('by C')\n",
    "axes[2].set_xlabel('by D')\n",
    "axes[0].set_title('pairwise mutual information')\n",
    "axes[1].set_title('pairwise mutual information')\n",
    "axes[2].set_title('pairwise mutual information')\n",
    "plt.tight_layout()"
   ]
  },
  {
   "cell_type": "markdown",
   "metadata": {},
   "source": [
    "## Goal 2\n",
    "\n",
    "Study the variability in accuracy of answers to Q1 and Q2 for A, B and C: fix epsilon = 0.1, generate __10__ synthetic databases (by specifying different seeds).  Plot accuracy as a box-and-whiskers plot.  "
   ]
  },
  {
   "cell_type": "code",
   "execution_count": 32,
   "metadata": {},
   "outputs": [],
   "source": [
    "set_random_seed(seed)\n",
    "\n",
    "df_goal_2 = pd.DataFrame(columns=['repeat', 'parameter settings', 'measure', 'attribute', 'value'])\n",
    "for rep in range(10):\n",
    "    print(f'Running rep={rep}')\n",
    "    df_A_i = generate_data_A(real_data_file, output_data_size,)\n",
    "    df_B_i = generate_data_B(real_data_file, output_data_size, epsilon=0.1)\n",
    "    df_C_i = generate_data_C(real_data_file, output_data_size, epsilon=0.1)\n",
    "    \n",
    "    age_min_A = df_A_i['age'].min()\n",
    "    age_min_B = df_B_i['age'].min()\n",
    "    age_min_C = df_C_i['age'].min()\n",
    "    age_max_A = df_A_i['age'].max()\n",
    "    age_max_B = df_B_i['age'].max()\n",
    "    age_max_C = df_C_i['age'].max()\n",
    "    age_mean_A = df_A_i['age'].mean()\n",
    "    age_mean_B = df_B_i['age'].mean()\n",
    "    age_mean_C = df_C_i['age'].mean()\n",
    "    age_median_A = df_A_i['age'].median()\n",
    "    age_median_B = df_B_i['age'].median()\n",
    "    age_median_C = df_C_i['age'].median()\n",
    "\n",
    "    df_goal_2.loc[df_goal_2.shape[0]] = [rep, 'A', 'min', 'age', age_min_A]\n",
    "    df_goal_2.loc[df_goal_2.shape[0]] = [rep, 'B', 'min', 'age', age_min_B]\n",
    "    df_goal_2.loc[df_goal_2.shape[0]] = [rep, 'C', 'min', 'age', age_min_C]\n",
    "    \n",
    "    df_goal_2.loc[df_goal_2.shape[0]] = [rep, 'A', 'max', 'age', age_max_A]\n",
    "    df_goal_2.loc[df_goal_2.shape[0]] = [rep, 'B', 'max', 'age', age_max_B]\n",
    "    df_goal_2.loc[df_goal_2.shape[0]] = [rep, 'C', 'max', 'age', age_max_C]\n",
    "\n",
    "    df_goal_2.loc[df_goal_2.shape[0]] = [rep, 'A', 'mean', 'age', age_mean_A]\n",
    "    df_goal_2.loc[df_goal_2.shape[0]] = [rep, 'B', 'mean', 'age', age_mean_B]\n",
    "    df_goal_2.loc[df_goal_2.shape[0]] = [rep, 'C', 'mean', 'age', age_mean_C]\n",
    "\n",
    "    df_goal_2.loc[df_goal_2.shape[0]] = [rep, 'A', 'median', 'age', age_median_A]\n",
    "    df_goal_2.loc[df_goal_2.shape[0]] = [rep, 'B', 'median', 'age', age_median_B]\n",
    "    df_goal_2.loc[df_goal_2.shape[0]] = [rep, 'C', 'median', 'age', age_median_C]\n",
    "\n",
    "df_goal_2['value'] = df_goal_2['value'].astype(float)\n",
    "\n",
    "clear_output()"
   ]
  },
  {
   "cell_type": "code",
   "execution_count": 33,
   "metadata": {},
   "outputs": [
    {
     "data": {
      "image/png": "[encoded data removed]",
      "text/plain": [
       "<Figure size 1920x480 with 4 Axes>"
      ]
     },
     "metadata": {
      "needs_background": "light"
     },
     "output_type": "display_data"
    }
   ],
   "source": [
    "fig, axes = plt.subplots(1, 4, figsize=(16,4), dpi=120)\n",
    "sns.boxplot(x='parameter settings', y='value', data=df_goal_2[df_goal_2['measure']=='min'], ax=axes[0], linewidth=0.5, fliersize=0)\n",
    "sns.boxplot(x='parameter settings', y='value', data=df_goal_2[df_goal_2['measure']=='max'], ax=axes[1], linewidth=0.5, fliersize=0)\n",
    "sns.boxplot(x='parameter settings', y='value', data=df_goal_2[df_goal_2['measure']=='mean'], ax=axes[2], linewidth=0.5, fliersize=0)\n",
    "sns.boxplot(x='parameter settings', y='value', data=df_goal_2[df_goal_2['measure']=='median'], ax=axes[3], linewidth=0.5, fliersize=0)\n",
    "axes[0].plot([-1, 3], [df_real['age'].min(), df_real['age'].min()], 'r', linewidth=0.5)\n",
    "axes[1].plot([-1, 3], [df_real['age'].max(), df_real['age'].max()], 'r', linewidth=0.5)\n",
    "axes[2].plot([-1, 3], [df_real['age'].mean(), df_real['age'].mean()], 'r', linewidth=0.5)\n",
    "axes[3].plot([-1, 3], [df_real['age'].median(), df_real['age'].median()], 'r', linewidth=0.5)\n",
    "axes[0].set_ylabel('min(age)')\n",
    "axes[1].set_ylabel('max(age)')\n",
    "axes[2].set_ylabel('mean(age)')\n",
    "axes[3].set_ylabel('median(age)')\n",
    "axes[0].set_title('MIN, stability test')\n",
    "axes[1].set_title('MAX, stability test')\n",
    "axes[2].set_title('MEAN, stability test')\n",
    "axes[3].set_title('MEDIAN, stability test')\n",
    "plt.tight_layout()"
   ]
  },
  {
   "cell_type": "markdown",
   "metadata": {},
   "source": [
    "## Goal 3\n",
    "\n",
    "Study how accuracy of Q3 changes for case **C**, as you vary __epsilon__ = [0.1, 0.2, ..., 1]."
   ]
  },
  {
   "cell_type": "code",
   "execution_count": 34,
   "metadata": {},
   "outputs": [],
   "source": [
    "def mi_diff_acc(df_mi_1, df_mi_2):\n",
    "    return (df_mi_1 - df_mi_2).abs().sum().sum()/2"
   ]
  },
  {
   "cell_type": "code",
   "execution_count": null,
   "metadata": {},
   "outputs": [
    {
     "name": "stdout",
     "output_type": "stream",
     "text": [
      "~~~ i=0, epsilon=0.01 ~~~\n",
      "================ Constructing Bayesian Network (BN) ================\n",
      "Adding ROOT sex\n",
      "Adding attribute age\n",
      "Adding attribute race\n",
      "Adding attribute score\n",
      "========================== BN constructed ==========================\n",
      "================ Constructing Bayesian Network (BN) ================\n",
      "Adding ROOT age\n",
      "Adding attribute sex\n",
      "Adding attribute race\n",
      "Adding attribute score\n",
      "========================== BN constructed ==========================\n",
      "================ Constructing Bayesian Network (BN) ================\n",
      "Adding ROOT sex\n",
      "Adding attribute score\n",
      "Adding attribute race\n",
      "Adding attribute age\n",
      "========================== BN constructed ==========================\n",
      "================ Constructing Bayesian Network (BN) ================\n",
      "Adding ROOT age\n",
      "Adding attribute sex\n",
      "Adding attribute score\n",
      "Adding attribute race\n",
      "========================== BN constructed ==========================\n",
      "================ Constructing Bayesian Network (BN) ================\n",
      "Adding ROOT age\n",
      "Adding attribute sex\n",
      "Adding attribute score\n",
      "Adding attribute race\n",
      "========================== BN constructed ==========================\n",
      "================ Constructing Bayesian Network (BN) ================\n",
      "Adding ROOT sex\n",
      "Adding attribute age\n",
      "Adding attribute score\n",
      "Adding attribute race\n",
      "========================== BN constructed ==========================\n"
     ]
    }
   ],
   "source": [
    "set_random_seed(seed)\n",
    "\n",
    "epsilons_compas = [0.01, 0.02, 0.03, 0.04, 0.05, 0.06, 0.07, 0.08, 0.09, 0.1]\n",
    "epsilons_fake = [0.0001, 0.001, 0.01, 0.1, 1, 10, 100]\n",
    "\n",
    "repeat = 10\n",
    "\n",
    "df_goal_3 = pd.DataFrame(columns=['dataset', 'epsilon', 'repeat', 'parameter settings', 'measure', 'value'])\n",
    "\n",
    "for i, epsilon in enumerate(epsilons_compas):\n",
    "    print(f'~~~ i={i}, epsilon={epsilon} ~~~')\n",
    "    for rep in range(repeat):\n",
    "        df_B_i = generate_data_B(real_data_file, output_data_size, epsilon=epsilon)\n",
    "        df_C_i = generate_data_C(real_data_file, output_data_size, epsilon=epsilon)\n",
    "        df_D_i = generate_data_D(real_data_file, output_data_size, epsilon=epsilon)\n",
    "        df_goal_3.loc[df_goal_3.shape[0]] = ['hw_compas', epsilon, rep, 'B', 'KL-divergence', kl_test(df_real, df_B_i, 'race')]\n",
    "        df_goal_3.loc[df_goal_3.shape[0]] = ['hw_compas', epsilon, rep, 'C', 'KL-divergence', kl_test(df_real, df_C_i, 'race')]\n",
    "        df_goal_3.loc[df_goal_3.shape[0]] = ['hw_compas', epsilon, rep, 'D', 'KL-divergence', kl_test(df_real, df_D_i, 'race')]\n",
    "\n",
    "mi_real = pairwise_attributes_mutual_information(df_real)\n",
    "\n",
    "for i, epsilon in enumerate(epsilons_fake):\n",
    "    print(f'~~~ i={i}, epsilon={epsilon} ~~~')\n",
    "    for rep in range(repeat):\n",
    "        df_B_i = generate_data_B(fake_data_file, output_data_size, epsilon=epsilon)\n",
    "        df_C_i = generate_data_C(fake_data_file, output_data_size, epsilon=epsilon)\n",
    "        df_D_i = generate_data_D(fake_data_file, output_data_size, epsilon=epsilon)\n",
    "        df_goal_3.loc[df_goal_3.shape[0]] = ['hw_fake', epsilon, rep, 'B', 'MI difference', mi_diff_acc(mi_fake, pairwise_attributes_mutual_information(df_B_i))]\n",
    "        df_goal_3.loc[df_goal_3.shape[0]] = ['hw_fake', epsilon, rep, 'C', 'MI difference', mi_diff_acc(mi_fake, pairwise_attributes_mutual_information(df_C_i))]\n",
    "        df_goal_3.loc[df_goal_3.shape[0]] = ['hw_fake', epsilon, rep, 'D', 'MI difference', mi_diff_acc(mi_fake, pairwise_attributes_mutual_information(df_D_i))]\n",
    "        \n",
    "        df_B_i = generate_data_B(real_data_file, output_data_size, epsilon=epsilon)\n",
    "        df_C_i = generate_data_C(real_data_file, output_data_size, epsilon=epsilon)\n",
    "        df_D_i = generate_data_D(real_data_file, output_data_size, epsilon=epsilon)\n",
    "        df_goal_3.loc[df_goal_3.shape[0]] = ['hw_compas', epsilon, rep, 'B', 'MI difference', mi_diff_acc(mi_real, pairwise_attributes_mutual_information(df_B_i))]\n",
    "        df_goal_3.loc[df_goal_3.shape[0]] = ['hw_compas', epsilon, rep, 'C', 'MI difference', mi_diff_acc(mi_real, pairwise_attributes_mutual_information(df_C_i))]\n",
    "        df_goal_3.loc[df_goal_3.shape[0]] = ['hw_compas', epsilon, rep, 'D', 'MI difference', mi_diff_acc(mi_real, pairwise_attributes_mutual_information(df_D_i))]\n",
    "\n",
    "clear_output()"
   ]
  },
  {
   "cell_type": "code",
   "execution_count": null,
   "metadata": {},
   "outputs": [],
   "source": [
    "df_kl = df_goal_3[df_goal_3['measure']=='KL-divergence']\n",
    "maximum = df_kl['value'].max() * 1.1\n",
    "fig, axes = plt.subplots(1, 3, figsize=(15,4), dpi=100)\n",
    "sns.boxplot(x='epsilon', y='value', data=df_kl[df_kl['parameter settings']=='B'], ax=axes[0], linewidth=0.5, fliersize=2)\n",
    "sns.boxplot(x='epsilon', y='value', data=df_kl[df_kl['parameter settings']=='C'], ax=axes[1], linewidth=0.5, fliersize=2)\n",
    "sns.boxplot(x='epsilon', y='value', data=df_kl[df_kl['parameter settings']=='D'], ax=axes[2], linewidth=0.5, fliersize=2)\n",
    "axes[0].set_ylabel('')\n",
    "axes[1].set_ylabel('')\n",
    "axes[2].set_ylabel('')\n",
    "axes[0].set_title('hw_compas, KL-divergence of race, by B')\n",
    "axes[1].set_title('hw_compas, KL-divergence of race, by C')\n",
    "axes[2].set_title('hw_compas, KL-divergence of race, by D')\n",
    "axes[0].set_ylim(-0.1, maximum)\n",
    "axes[1].set_ylim(-0.1, maximum)\n",
    "axes[2].set_ylim(-0.1, maximum)\n",
    "plt.tight_layout();"
   ]
  },
  {
   "cell_type": "code",
   "execution_count": null,
   "metadata": {},
   "outputs": [],
   "source": [
    "real_mi_diff = df_goal_3[(df_goal_3['dataset']=='hw_compas')&(df_goal_3['measure']=='MI difference')]\n",
    "fig, axes = plt.subplots(1, 3, figsize=(12,4), dpi=120)\n",
    "maximum = real_mi_diff['value'].max() * 1.1\n",
    "sns.boxplot(x='epsilon', y='value', data=real_mi_diff[real_mi_diff['parameter settings']=='B'], ax=axes[0], linewidth=0.5, fliersize=0)\n",
    "sns.boxplot(x='epsilon', y='value', data=real_mi_diff[real_mi_diff['parameter settings']=='C'], ax=axes[1], linewidth=0.5, fliersize=0)\n",
    "sns.boxplot(x='epsilon', y='value', data=real_mi_diff[real_mi_diff['parameter settings']=='D'], ax=axes[2], linewidth=0.5, fliersize=0)\n",
    "axes[0].set_ylabel('')\n",
    "axes[1].set_ylabel('')\n",
    "axes[2].set_ylabel('')\n",
    "axes[0].set_xlabel('B')\n",
    "axes[1].set_xlabel('C')\n",
    "axes[2].set_xlabel('D')\n",
    "axes[0].set_title('hw_compas, MI difference, by B')\n",
    "axes[1].set_title('hw_compas, MI difference, by C')\n",
    "axes[2].set_title('hw_compas, MI difference, by D')\n",
    "axes[0].set_ylim(0, maximum)\n",
    "axes[1].set_ylim(0, maximum)\n",
    "axes[2].set_ylim(0, maximum)\n",
    "plt.tight_layout()"
   ]
  },
  {
   "cell_type": "code",
   "execution_count": null,
   "metadata": {},
   "outputs": [],
   "source": [
    "fake_mi_diff = df_goal_3[(df_goal_3['dataset']=='hw_fake')&(df_goal_3['measure']=='MI difference')]\n",
    "fig, axes = plt.subplots(1, 3, figsize=(12,4), dpi=120)\n",
    "maximum = fake_mi_diff['value'].max() * 1.1\n",
    "sns.boxplot(x='epsilon', y='value', data=fake_mi_diff[fake_mi_diff['parameter settings']=='B'], ax=axes[0], linewidth=0.5, fliersize=0)\n",
    "sns.boxplot(x='epsilon', y='value', data=fake_mi_diff[fake_mi_diff['parameter settings']=='C'], ax=axes[1], linewidth=0.5, fliersize=0)\n",
    "sns.boxplot(x='epsilon', y='value', data=fake_mi_diff[fake_mi_diff['parameter settings']=='D'], ax=axes[2], linewidth=0.5, fliersize=0)\n",
    "axes[0].set_ylabel('')\n",
    "axes[1].set_ylabel('')\n",
    "axes[2].set_ylabel('')\n",
    "axes[0].set_xlabel('B')\n",
    "axes[1].set_xlabel('C')\n",
    "axes[2].set_xlabel('D')\n",
    "axes[0].set_title('hw_fake, MI difference, by B')\n",
    "axes[1].set_title('hw_fake, MI difference, by C')\n",
    "axes[2].set_title('hw_fake, MI difference, by D')\n",
    "axes[0].set_ylim(0, maximum)\n",
    "axes[1].set_ylim(0, maximum)\n",
    "axes[2].set_ylim(0, maximum)\n",
    "plt.tight_layout()"
   ]
  },
  {
   "cell_type": "markdown",
   "metadata": {},
   "source": [
    "# Appendix"
   ]
  },
  {
   "cell_type": "code",
   "execution_count": null,
   "metadata": {},
   "outputs": [],
   "source": [
    "# from numpy.random import randint as np_randint\n",
    "# from random import random\n",
    "\n",
    "# domain_size = 3\n",
    "# num_tuples = 1000\n",
    "# p = 0.5\n",
    "\n",
    "# df = pd.DataFrame()\n",
    "# df['parent_1'] = np_randint(0, domain_size, size=num_tuples)\n",
    "# df['parent_2'] = np_randint(0, domain_size, size=num_tuples)\n",
    "# df['child_1'] = [df.loc[i, 'parent_1'] if random() < p else df.loc[i, 'parent_2'] for i in df.index]\n",
    "# df['child_2'] = [df.loc[i, 'parent_1'] if random() > p else df.loc[i, 'parent_2'] for i in df.index]\n",
    "\n",
    "# df.to_csv('./data/hw_fake.csv', index=False)"
   ]
  }
 ],
 "metadata": {
  "kernelspec": {
   "display_name": "deep",
   "language": "python",
   "name": "deep"
  },
  "language_info": {
   "codemirror_mode": {
    "name": "ipython",
    "version": 3
   },
   "file_extension": ".py",
   "mimetype": "text/x-python",
   "name": "python",
   "nbconvert_exporter": "python",
   "pygments_lexer": "ipython3",
   "version": "3.7.3"
  }
 },
 "nbformat": 4,
 "nbformat_minor": 2
}
